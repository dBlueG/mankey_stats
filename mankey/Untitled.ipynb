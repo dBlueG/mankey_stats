{
 "cells": [
  {
   "cell_type": "code",
   "execution_count": 1,
   "id": "85548fed",
   "metadata": {
    "ExecuteTime": {
     "end_time": "2022-03-13T11:42:39.765827Z",
     "start_time": "2022-03-13T11:42:35.711568Z"
    }
   },
   "outputs": [],
   "source": [
    "import custom_helpers\n",
    "import mankey_dataframe as transformers\n",
    "import matplotlib.pyplot as plt\n",
    "import seaborn as sns \n"
   ]
  },
  {
   "cell_type": "code",
   "execution_count": 2,
   "id": "a3a5adfa",
   "metadata": {
    "ExecuteTime": {
     "end_time": "2022-03-13T11:42:39.770213Z",
     "start_time": "2022-03-13T11:42:39.767620Z"
    }
   },
   "outputs": [],
   "source": [
    "from custom_helpers import *"
   ]
  },
  {
   "cell_type": "code",
   "execution_count": 3,
   "id": "3b68513f",
   "metadata": {
    "ExecuteTime": {
     "end_time": "2022-03-13T11:42:39.821528Z",
     "start_time": "2022-03-13T11:42:39.777478Z"
    }
   },
   "outputs": [
    {
     "data": {
      "text/html": [
       "<div>\n",
       "<style scoped>\n",
       "    .dataframe tbody tr th:only-of-type {\n",
       "        vertical-align: middle;\n",
       "    }\n",
       "\n",
       "    .dataframe tbody tr th {\n",
       "        vertical-align: top;\n",
       "    }\n",
       "\n",
       "    .dataframe thead th {\n",
       "        text-align: right;\n",
       "    }\n",
       "</style>\n",
       "<table border=\"1\" class=\"dataframe\">\n",
       "  <thead>\n",
       "    <tr style=\"text-align: right;\">\n",
       "      <th></th>\n",
       "      <th>PassengerId</th>\n",
       "      <th>Survived</th>\n",
       "      <th>Pclass</th>\n",
       "      <th>Name</th>\n",
       "      <th>Sex</th>\n",
       "      <th>Age</th>\n",
       "      <th>SibSp</th>\n",
       "      <th>Parch</th>\n",
       "      <th>Ticket</th>\n",
       "      <th>Fare</th>\n",
       "      <th>Cabin</th>\n",
       "      <th>Embarked</th>\n",
       "    </tr>\n",
       "  </thead>\n",
       "  <tbody>\n",
       "    <tr>\n",
       "      <th>0</th>\n",
       "      <td>1</td>\n",
       "      <td>0</td>\n",
       "      <td>3</td>\n",
       "      <td>Braund, Mr. Owen Harris</td>\n",
       "      <td>male</td>\n",
       "      <td>22.0</td>\n",
       "      <td>1</td>\n",
       "      <td>0</td>\n",
       "      <td>A/5 21171</td>\n",
       "      <td>7.2500</td>\n",
       "      <td>NaN</td>\n",
       "      <td>S</td>\n",
       "    </tr>\n",
       "    <tr>\n",
       "      <th>1</th>\n",
       "      <td>2</td>\n",
       "      <td>1</td>\n",
       "      <td>1</td>\n",
       "      <td>Cumings, Mrs. John Bradley (Florence Briggs Th...</td>\n",
       "      <td>female</td>\n",
       "      <td>38.0</td>\n",
       "      <td>1</td>\n",
       "      <td>0</td>\n",
       "      <td>PC 17599</td>\n",
       "      <td>71.2833</td>\n",
       "      <td>C85</td>\n",
       "      <td>C</td>\n",
       "    </tr>\n",
       "    <tr>\n",
       "      <th>2</th>\n",
       "      <td>3</td>\n",
       "      <td>1</td>\n",
       "      <td>3</td>\n",
       "      <td>Heikkinen, Miss. Laina</td>\n",
       "      <td>female</td>\n",
       "      <td>26.0</td>\n",
       "      <td>0</td>\n",
       "      <td>0</td>\n",
       "      <td>STON/O2. 3101282</td>\n",
       "      <td>7.9250</td>\n",
       "      <td>NaN</td>\n",
       "      <td>S</td>\n",
       "    </tr>\n",
       "    <tr>\n",
       "      <th>3</th>\n",
       "      <td>4</td>\n",
       "      <td>1</td>\n",
       "      <td>1</td>\n",
       "      <td>Futrelle, Mrs. Jacques Heath (Lily May Peel)</td>\n",
       "      <td>female</td>\n",
       "      <td>35.0</td>\n",
       "      <td>1</td>\n",
       "      <td>0</td>\n",
       "      <td>113803</td>\n",
       "      <td>53.1000</td>\n",
       "      <td>C123</td>\n",
       "      <td>S</td>\n",
       "    </tr>\n",
       "    <tr>\n",
       "      <th>4</th>\n",
       "      <td>5</td>\n",
       "      <td>0</td>\n",
       "      <td>3</td>\n",
       "      <td>Allen, Mr. William Henry</td>\n",
       "      <td>male</td>\n",
       "      <td>35.0</td>\n",
       "      <td>0</td>\n",
       "      <td>0</td>\n",
       "      <td>373450</td>\n",
       "      <td>8.0500</td>\n",
       "      <td>NaN</td>\n",
       "      <td>S</td>\n",
       "    </tr>\n",
       "  </tbody>\n",
       "</table>\n",
       "</div>"
      ],
      "text/plain": [
       "   PassengerId  Survived  Pclass  \\\n",
       "0            1         0       3   \n",
       "1            2         1       1   \n",
       "2            3         1       3   \n",
       "3            4         1       1   \n",
       "4            5         0       3   \n",
       "\n",
       "                                                Name     Sex   Age  SibSp  \\\n",
       "0                            Braund, Mr. Owen Harris    male  22.0      1   \n",
       "1  Cumings, Mrs. John Bradley (Florence Briggs Th...  female  38.0      1   \n",
       "2                             Heikkinen, Miss. Laina  female  26.0      0   \n",
       "3       Futrelle, Mrs. Jacques Heath (Lily May Peel)  female  35.0      1   \n",
       "4                           Allen, Mr. William Henry    male  35.0      0   \n",
       "\n",
       "   Parch            Ticket     Fare Cabin Embarked  \n",
       "0      0         A/5 21171   7.2500   NaN        S  \n",
       "1      0          PC 17599  71.2833   C85        C  \n",
       "2      0  STON/O2. 3101282   7.9250   NaN        S  \n",
       "3      0            113803  53.1000  C123        S  \n",
       "4      0            373450   8.0500   NaN        S  "
      ]
     },
     "execution_count": 3,
     "metadata": {},
     "output_type": "execute_result"
    }
   ],
   "source": [
    "df=pd.read_csv('/Users/hhs2099/Dropbox/IE University/Courses/Term 3/Advanced Python/AdvPython_GroupProject_DataPreparation/titanic.csv') #missing values\n",
    "df1=pd.read_csv('/Users/hhs2099/Dropbox/IE University/Courses/Term 3/Advanced Python/AdvPython_GroupProject_DataPreparation/shootings.csv') #visualization \n",
    "df.head()"
   ]
  },
  {
   "cell_type": "code",
   "execution_count": 4,
   "id": "dbfe0063",
   "metadata": {
    "ExecuteTime": {
     "end_time": "2022-03-13T11:42:39.832028Z",
     "start_time": "2022-03-13T11:42:39.827099Z"
    },
    "scrolled": true
   },
   "outputs": [
    {
     "data": {
      "text/plain": [
       "['MankeyDataframe',\n",
       " 'MinMaxScaler',\n",
       " '__builtins__',\n",
       " '__cached__',\n",
       " '__doc__',\n",
       " '__file__',\n",
       " '__loader__',\n",
       " '__name__',\n",
       " '__package__',\n",
       " '__spec__',\n",
       " 'custom_helpers',\n",
       " 'np',\n",
       " 'pd',\n",
       " 'plt',\n",
       " 'preprocessing']"
      ]
     },
     "execution_count": 4,
     "metadata": {},
     "output_type": "execute_result"
    }
   ],
   "source": [
    "dir(transformers)"
   ]
  },
  {
   "cell_type": "code",
   "execution_count": 5,
   "id": "7ec42e9e",
   "metadata": {
    "ExecuteTime": {
     "end_time": "2022-03-13T11:42:39.937573Z",
     "start_time": "2022-03-13T11:42:39.833876Z"
    }
   },
   "outputs": [
    {
     "data": {
      "text/plain": [
       "['BaseEstimator',\n",
       " 'OrdinalEncoder',\n",
       " 'Ordinal_Transformer',\n",
       " 'TransformerMixin',\n",
       " 'WoE_Transformer',\n",
       " '__builtins__',\n",
       " '__cached__',\n",
       " '__doc__',\n",
       " '__file__',\n",
       " '__loader__',\n",
       " '__name__',\n",
       " '__package__',\n",
       " '__spec__',\n",
       " 'date_expand_func',\n",
       " 'date_expander',\n",
       " 'datetime',\n",
       " 'np',\n",
       " 'pd']"
      ]
     },
     "execution_count": 5,
     "metadata": {},
     "output_type": "execute_result"
    }
   ],
   "source": [
    "dir(custom_helpers)"
   ]
  },
  {
   "cell_type": "code",
   "execution_count": 6,
   "id": "10d7b123",
   "metadata": {
    "ExecuteTime": {
     "end_time": "2022-03-13T11:42:39.964924Z",
     "start_time": "2022-03-13T11:42:39.939925Z"
    }
   },
   "outputs": [],
   "source": [
    "# Define a function for automating the uni-variate and bi-variate analysis\n",
    "\n",
    "def basic_EDA (df = df,\n",
    "               variable= 'Pclass',\n",
    "               target='Survived'):\n",
    "\n",
    "    print(\"Missing values of \" + variable + \": \" + str(df[variable].isna().sum()))\n",
    "    \n",
    "    print(df[[variable]].describe())\n",
    "\n",
    "    # For categorical variables:\n",
    "    if (df[variable].dtypes == 'object'):\n",
    "        \n",
    "        # Count data instances and target average per category  \n",
    "        df_plot = df.fillna('missing').groupby([variable]).aggregate({\n",
    "            target: ['mean', 'count']\n",
    "        }).sort_values(by=[(target,'mean')])\n",
    "\n",
    "        # Use a red line to plot the average value of the target per category\n",
    "        ax = df_plot[[(target,'mean')]].plot(kind='line', color='red', rot=45, legend=False)\n",
    "        \n",
    "        # Use secondary vertical axis\n",
    "        ax1 = ax.twinx()\n",
    "\n",
    "        # Use blue bars to plot the number of cases per category\n",
    "        ax = df_plot[[(target,'count')]].plot(kind='bar', ax = ax1, rot=45, color='blue',\n",
    "                                                  legend=False)\n",
    "        \n",
    "        plt.show()\n",
    "        \n",
    "    # For numerical variables:\n",
    "    if ((df[variable].dtypes == 'float64') | \n",
    "        (df[variable].dtypes == 'int64')):\n",
    "        \n",
    "        # Univariate analysis: histogram  \n",
    "        df[[variable]].hist(bins=40)\n",
    "        plt.show()\n",
    "        \n",
    "        # Univariate analysis: boxplot \n",
    "        df[[variable]].boxplot()\n",
    "        plt.show()\n",
    "        \n",
    "        # Bivariate analysis: scatter plot including variable and target \n",
    "        df.plot(kind='scatter',\n",
    "                x=variable, \n",
    "                y=target)\n",
    "        plt.show()"
   ]
  },
  {
   "cell_type": "code",
   "execution_count": 7,
   "id": "9c02cfd5",
   "metadata": {
    "ExecuteTime": {
     "end_time": "2022-03-13T11:42:40.082641Z",
     "start_time": "2022-03-13T11:42:39.967274Z"
    }
   },
   "outputs": [
    {
     "name": "stdout",
     "output_type": "stream",
     "text": [
      "        Type  level\n",
      "0        bad      1\n",
      "1    average      2\n",
      "2       good      3\n",
      "3  very good      4\n",
      "4  excellent      5\n"
     ]
    }
   ],
   "source": [
    "import pandas as pd\n",
    "\n",
    "data = {'Type':  ['bad', 'average', 'good', 'very good','excellent'],\n",
    "        'level': [1,2,3,4,5],\n",
    "        }\n",
    "\n",
    "df = pd.DataFrame(data)\n",
    "\n",
    "print (df)\n"
   ]
  },
  {
   "cell_type": "code",
   "execution_count": 9,
   "id": "88c531e4",
   "metadata": {
    "ExecuteTime": {
     "end_time": "2022-03-13T11:43:13.177000Z",
     "start_time": "2022-03-13T11:43:13.172689Z"
    }
   },
   "outputs": [],
   "source": [
    "import custom_helpers\n",
    "import mankey_dataframe as transformers\n",
    "import matplotlib.pyplot as plt\n",
    "import seaborn as sns \n",
    "import pandas as pd \n",
    "import numpy\n",
    "\n",
    "def test_basic():\n",
    "    assert 1 == 1\n",
    "    \n",
    "def test_ordinal_transformer():\n",
    "    df=pd.read_csv('/Users/hhs2099/Dropbox/IE University/Courses/Term 3/Advanced Python/AdvPython_GroupProject_DataPreparation/titanic.csv')\n",
    "    t_ordinal=tansformers.Ordinal_Transformer()\n",
    "    t_ordinal.fit(df)\n",
    "    "
   ]
  },
  {
   "cell_type": "code",
   "execution_count": 10,
   "id": "48d266b8",
   "metadata": {
    "ExecuteTime": {
     "end_time": "2022-03-13T11:43:13.899850Z",
     "start_time": "2022-03-13T11:43:13.892668Z"
    }
   },
   "outputs": [],
   "source": [
    "#import mankey.custom_helpers as transformers\n",
    "import pandas as pd\n",
    "\n",
    "\n",
    "def test_basic():\n",
    "    assert 1 == 1\n",
    "\n",
    "\n",
    "def test_ordinal_one():\n",
    "    import pandas as pd\n",
    "\n",
    "    data = {'Pclass':  ['First_class', 'Second_Class', 'Third_Class','Fourth_class'],\n",
    "            'level': [1, 2, 3,4],\n",
    "            }\n",
    "\n",
    "    df = pd.DataFrame(data)\n",
    "    Pclass_dict = {\"Pclass\": ['First_class', 'Second_Class', 'Third_Class'],\n",
    "                   }\n",
    "\n",
    "    target_result = {'type':  [0, 1, 2],\n",
    "                     'level': [1, 2, 3],\n",
    "                     }\n",
    "    target_df = pd.DataFrame(target_result)\n",
    "\n",
    "    t_ord = transformers.Ordinal_Transformer()\n",
    "    t_ord.fit( Pclass_dict, df,None, input_vars=['Pclass'])\n",
    "\n",
    "    df = t_ord.transform(df, None)\n",
    "    pd.testing.assert_frame_equal(df, target_df)\n"
   ]
  },
  {
   "cell_type": "code",
   "execution_count": 13,
   "id": "4ea49cca",
   "metadata": {
    "ExecuteTime": {
     "end_time": "2022-03-13T11:44:08.194259Z",
     "start_time": "2022-03-13T11:44:08.188230Z"
    }
   },
   "outputs": [
    {
     "data": {
      "text/plain": [
       "{'rewrite_asserts': False,\n",
       " 'magics': False,\n",
       " 'clean': '[Tt]est*',\n",
       " 'addopts': (),\n",
       " 'run_in_thread': False,\n",
       " 'defopts': True,\n",
       " 'display_columns': 100,\n",
       " 'raise_on_error': False}"
      ]
     },
     "execution_count": 13,
     "metadata": {},
     "output_type": "execute_result"
    }
   ],
   "source": [
    "import pytest\n",
    "import ipytest\n",
    "ipytest.config()"
   ]
  },
  {
   "cell_type": "code",
   "execution_count": null,
   "id": "ce5b89fb",
   "metadata": {
    "ExecuteTime": {
     "end_time": "2022-03-13T11:42:40.362861Z",
     "start_time": "2022-03-13T11:42:40.362848Z"
    }
   },
   "outputs": [],
   "source": []
  },
  {
   "cell_type": "code",
   "execution_count": null,
   "id": "461fb4f1",
   "metadata": {},
   "outputs": [],
   "source": []
  },
  {
   "cell_type": "code",
   "execution_count": null,
   "id": "7eda76c5",
   "metadata": {},
   "outputs": [],
   "source": []
  },
  {
   "cell_type": "code",
   "execution_count": null,
   "id": "bc580ca2",
   "metadata": {},
   "outputs": [],
   "source": []
  },
  {
   "cell_type": "code",
   "execution_count": null,
   "id": "00df239c",
   "metadata": {},
   "outputs": [],
   "source": []
  },
  {
   "cell_type": "code",
   "execution_count": null,
   "id": "86102658",
   "metadata": {},
   "outputs": [],
   "source": []
  },
  {
   "cell_type": "code",
   "execution_count": null,
   "id": "7a73919c",
   "metadata": {
    "ExecuteTime": {
     "end_time": "2022-03-13T11:42:40.364203Z",
     "start_time": "2022-03-13T11:42:40.364191Z"
    },
    "scrolled": false
   },
   "outputs": [],
   "source": [
    "df_not_num = shootings.select_dtypes(include = ['O'])\n",
    "print('There is {} non numerical features including:\\n{}'.format(len(df_not_num.columns), df_not_num.columns.tolist()))\n",
    "fig, axes = plt.subplots(round(len(df_not_num.columns) / 3), 2, figsize=(20, 100))\n",
    "for i, ax in enumerate(fig.axes):\n",
    "    if i < len(df_not_num.columns):\n",
    "        #ax.set_xticklabels(ax.xaxis.get_majorticklabels(), rotation=45)\n",
    "        \n",
    "        if df_not_num.columns[i] == 'Cabin':\n",
    "            sns.boxplot(y=df_not_num.columns[i], x=df[\"Survived\"], data=df_not_num, ax=ax)\n",
    "        else:\n",
    "            sns.boxplot(x=df_not_num.columns[i], y=df[\"Survived\"], data=df_not_num, ax=ax)\n",
    "\n",
    "fig.tight_layout()"
   ]
  }
 ],
 "metadata": {
  "interpreter": {
   "hash": "90dc76eae8593d16c9275054b21729876545f698b159484522c1a2f17c490ae3"
  },
  "kernelspec": {
   "display_name": "Python [conda env:root] *",
   "language": "python",
   "name": "conda-root-py"
  },
  "language_info": {
   "codemirror_mode": {
    "name": "ipython",
    "version": 3
   },
   "file_extension": ".py",
   "mimetype": "text/x-python",
   "name": "python",
   "nbconvert_exporter": "python",
   "pygments_lexer": "ipython3",
   "version": "3.8.12"
  },
  "toc": {
   "base_numbering": 1,
   "nav_menu": {},
   "number_sections": true,
   "sideBar": true,
   "skip_h1_title": false,
   "title_cell": "Table of Contents",
   "title_sidebar": "Contents",
   "toc_cell": false,
   "toc_position": {},
   "toc_section_display": true,
   "toc_window_display": false
  },
  "varInspector": {
   "cols": {
    "lenName": 16,
    "lenType": 16,
    "lenVar": 40
   },
   "kernels_config": {
    "python": {
     "delete_cmd_postfix": "",
     "delete_cmd_prefix": "del ",
     "library": "var_list.py",
     "varRefreshCmd": "print(var_dic_list())"
    },
    "r": {
     "delete_cmd_postfix": ") ",
     "delete_cmd_prefix": "rm(",
     "library": "var_list.r",
     "varRefreshCmd": "cat(var_dic_list()) "
    }
   },
   "types_to_exclude": [
    "module",
    "function",
    "builtin_function_or_method",
    "instance",
    "_Feature"
   ],
   "window_display": false
  }
 },
 "nbformat": 4,
 "nbformat_minor": 5
}
