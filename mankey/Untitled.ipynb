{
 "cells": [
  {
   "cell_type": "code",
   "execution_count": 1,
   "id": "db13ce00",
   "metadata": {
    "ExecuteTime": {
     "end_time": "2022-03-13T11:52:18.329234Z",
     "start_time": "2022-03-13T11:52:16.600839Z"
    }
   },
   "outputs": [],
   "source": [
    "import custom_helpers"
   ]
  },
  {
   "cell_type": "code",
   "execution_count": 2,
   "id": "40e2cdf3",
   "metadata": {
    "ExecuteTime": {
     "end_time": "2022-03-13T11:52:19.613757Z",
     "start_time": "2022-03-13T11:52:18.332231Z"
    }
   },
   "outputs": [],
   "source": [
    "import numpy as np\n",
    "import pandas as pd\n",
    "import pandas as pd\n",
    "import numpy as np\n",
    "import matplotlib.pyplot as plt\n",
    "from sklearn.preprocessing import MinMaxScaler\n",
    "from sklearn import preprocessing\n",
    "\n",
    "from pandas.api.types import *\n",
    "import numpy as np\n",
    "import plotly.offline as py\n",
    "import plotly.figure_factory as ff\n",
    "import plotly.graph_objs as gobj\n",
    "\n",
    "\n",
    "\n",
    "import datetime"
   ]
  },
  {
   "cell_type": "code",
   "execution_count": 3,
   "id": "2344894b",
   "metadata": {
    "ExecuteTime": {
     "end_time": "2022-03-13T11:52:22.179598Z",
     "start_time": "2022-03-13T11:52:19.615757Z"
    }
   },
   "outputs": [],
   "source": [
    "autoloan = pd.read_csv(\"../AUTO_LOANS_DATA.csv\", sep=\";\")"
   ]
  },
  {
   "cell_type": "code",
   "execution_count": 4,
   "id": "4255b81d",
   "metadata": {
    "ExecuteTime": {
     "end_time": "2022-03-13T11:52:22.195595Z",
     "start_time": "2022-03-13T11:52:22.182596Z"
    },
    "scrolled": true
   },
   "outputs": [
    {
     "data": {
      "text/plain": [
       "Index(['REPORTING_DATE', 'ACCOUNT_NUMBER', 'CUSTOMER_ID', 'PROGRAM_NAME',\n",
       "       'LOAN_OPEN_DATE', 'EXPECTED_CLOSE_DATE', 'ORIGINAL_BOOKED_AMOUNT',\n",
       "       'OUTSTANDING', 'BUCKET', 'SEX', 'CUSTOMER_OPEN_DATE', 'BIRTH_DATE',\n",
       "       'PROFESSION', 'CAR_TYPE'],\n",
       "      dtype='object')"
      ]
     },
     "execution_count": 4,
     "metadata": {},
     "output_type": "execute_result"
    }
   ],
   "source": [
    "autoloan.columns"
   ]
  },
  {
   "cell_type": "code",
   "execution_count": 5,
   "id": "d2e1603b",
   "metadata": {
    "ExecuteTime": {
     "end_time": "2022-03-13T11:52:22.226594Z",
     "start_time": "2022-03-13T11:52:22.198595Z"
    }
   },
   "outputs": [],
   "source": [
    "import custom_helpers\n",
    "from mankey_dataframe import MankeyDataframe "
   ]
  },
  {
   "cell_type": "code",
   "execution_count": 6,
   "id": "4cfe4af0",
   "metadata": {
    "ExecuteTime": {
     "end_time": "2022-03-13T11:52:24.799800Z",
     "start_time": "2022-03-13T11:52:22.228594Z"
    }
   },
   "outputs": [],
   "source": [
    "autoloan = pd.read_csv(\"../AUTO_LOANS_DATA.csv\", sep=\";\")"
   ]
  },
  {
   "cell_type": "code",
   "execution_count": 7,
   "id": "e2f77e87",
   "metadata": {
    "ExecuteTime": {
     "end_time": "2022-03-13T11:52:24.815802Z",
     "start_time": "2022-03-13T11:52:24.801801Z"
    }
   },
   "outputs": [],
   "source": [
    "mdf = MankeyDataframe(autoloan)"
   ]
  },
  {
   "cell_type": "code",
   "execution_count": 28,
   "id": "496f88fc",
   "metadata": {
    "ExecuteTime": {
     "end_time": "2022-03-13T12:08:19.482274Z",
     "start_time": "2022-03-13T12:08:19.460269Z"
    }
   },
   "outputs": [
    {
     "data": {
      "text/plain": [
       "Index(['REPORTING_DATE', 'ACCOUNT_NUMBER', 'CUSTOMER_ID', 'PROGRAM_NAME',\n",
       "       'LOAN_OPEN_DATE', 'EXPECTED_CLOSE_DATE', 'ORIGINAL_BOOKED_AMOUNT',\n",
       "       'OUTSTANDING', 'BUCKET', 'SEX', 'CUSTOMER_OPEN_DATE', 'BIRTH_DATE',\n",
       "       'PROFESSION', 'CAR_TYPE'],\n",
       "      dtype='object')"
      ]
     },
     "execution_count": 28,
     "metadata": {},
     "output_type": "execute_result"
    }
   ],
   "source": [
    "autoloan.columns"
   ]
  },
  {
   "cell_type": "code",
   "execution_count": 30,
   "id": "c1db6d1a",
   "metadata": {
    "ExecuteTime": {
     "end_time": "2022-03-13T12:12:00.165870Z",
     "start_time": "2022-03-13T12:11:59.584744Z"
    }
   },
   "outputs": [],
   "source": [
    "autoloan.CUSTOMER_OPEN_DATE = pd.to_datetime(autoloan.CUSTOMER_OPEN_DATE)\n",
    "autoloan.LOAN_OPEN_DATE = pd.to_datetime(autoloan.LOAN_OPEN_DATE)"
   ]
  },
  {
   "cell_type": "code",
   "execution_count": 31,
   "id": "ca9455da",
   "metadata": {
    "ExecuteTime": {
     "end_time": "2022-03-13T12:15:08.970539Z",
     "start_time": "2022-03-13T12:15:08.900541Z"
    }
   },
   "outputs": [],
   "source": [
    "time_lapse = autoloan.CUSTOMER_OPEN_DATE - autoloan.LOAN_OPEN_DATE"
   ]
  },
  {
   "cell_type": "code",
   "execution_count": 32,
   "id": "562cdaa9",
   "metadata": {
    "ExecuteTime": {
     "end_time": "2022-03-13T12:16:19.867548Z",
     "start_time": "2022-03-13T12:16:19.846549Z"
    }
   },
   "outputs": [
    {
     "data": {
      "text/plain": [
       "0         -29 days\n",
       "1          -9 days\n",
       "2         -15 days\n",
       "3         -33 days\n",
       "4         -21 days\n",
       "            ...   \n",
       "900855    -11 days\n",
       "900856    -13 days\n",
       "900857    -51 days\n",
       "900858    -29 days\n",
       "900859   -362 days\n",
       "Length: 900860, dtype: timedelta64[ns]"
      ]
     },
     "execution_count": 32,
     "metadata": {},
     "output_type": "execute_result"
    }
   ],
   "source": [
    "time_lapse"
   ]
  },
  {
   "cell_type": "code",
   "execution_count": 25,
   "id": "6205e09b",
   "metadata": {
    "ExecuteTime": {
     "end_time": "2022-03-13T12:04:59.634470Z",
     "start_time": "2022-03-13T12:04:59.540472Z"
    }
   },
   "outputs": [
    {
     "ename": "TypeError",
     "evalue": "Cannot interpret '<module 'datetime' from 'F:\\\\Development\\\\Anaconda\\\\envs\\\\aramco_ml2\\\\lib\\\\datetime.py'>' as a data type",
     "output_type": "error",
     "traceback": [
      "\u001b[1;31m---------------------------------------------------------------------------\u001b[0m",
      "\u001b[1;31mTypeError\u001b[0m                                 Traceback (most recent call last)",
      "\u001b[1;32m<ipython-input-25-de4be706f54c>\u001b[0m in \u001b[0;36m<module>\u001b[1;34m\u001b[0m\n\u001b[1;32m----> 1\u001b[1;33m \u001b[0mbd\u001b[0m \u001b[1;33m=\u001b[0m \u001b[0mmdf\u001b[0m\u001b[1;33m.\u001b[0m\u001b[0mBIRTH_DATE\u001b[0m\u001b[1;33m.\u001b[0m\u001b[0mastype\u001b[0m\u001b[1;33m(\u001b[0m\u001b[0mdatetime\u001b[0m\u001b[1;33m)\u001b[0m\u001b[1;33m\u001b[0m\u001b[1;33m\u001b[0m\u001b[0m\n\u001b[0m",
      "\u001b[1;32mF:\\Development\\Anaconda\\envs\\aramco_ml2\\lib\\site-packages\\pandas\\core\\generic.py\u001b[0m in \u001b[0;36mastype\u001b[1;34m(self, dtype, copy, errors)\u001b[0m\n\u001b[0;32m   5875\u001b[0m         \u001b[1;32melse\u001b[0m\u001b[1;33m:\u001b[0m\u001b[1;33m\u001b[0m\u001b[1;33m\u001b[0m\u001b[0m\n\u001b[0;32m   5876\u001b[0m             \u001b[1;31m# else, only a single dtype is given\u001b[0m\u001b[1;33m\u001b[0m\u001b[1;33m\u001b[0m\u001b[1;33m\u001b[0m\u001b[0m\n\u001b[1;32m-> 5877\u001b[1;33m             \u001b[0mnew_data\u001b[0m \u001b[1;33m=\u001b[0m \u001b[0mself\u001b[0m\u001b[1;33m.\u001b[0m\u001b[0m_mgr\u001b[0m\u001b[1;33m.\u001b[0m\u001b[0mastype\u001b[0m\u001b[1;33m(\u001b[0m\u001b[0mdtype\u001b[0m\u001b[1;33m=\u001b[0m\u001b[0mdtype\u001b[0m\u001b[1;33m,\u001b[0m \u001b[0mcopy\u001b[0m\u001b[1;33m=\u001b[0m\u001b[0mcopy\u001b[0m\u001b[1;33m,\u001b[0m \u001b[0merrors\u001b[0m\u001b[1;33m=\u001b[0m\u001b[0merrors\u001b[0m\u001b[1;33m)\u001b[0m\u001b[1;33m\u001b[0m\u001b[1;33m\u001b[0m\u001b[0m\n\u001b[0m\u001b[0;32m   5878\u001b[0m             \u001b[1;32mreturn\u001b[0m \u001b[0mself\u001b[0m\u001b[1;33m.\u001b[0m\u001b[0m_constructor\u001b[0m\u001b[1;33m(\u001b[0m\u001b[0mnew_data\u001b[0m\u001b[1;33m)\u001b[0m\u001b[1;33m.\u001b[0m\u001b[0m__finalize__\u001b[0m\u001b[1;33m(\u001b[0m\u001b[0mself\u001b[0m\u001b[1;33m,\u001b[0m \u001b[0mmethod\u001b[0m\u001b[1;33m=\u001b[0m\u001b[1;34m\"astype\"\u001b[0m\u001b[1;33m)\u001b[0m\u001b[1;33m\u001b[0m\u001b[1;33m\u001b[0m\u001b[0m\n\u001b[0;32m   5879\u001b[0m \u001b[1;33m\u001b[0m\u001b[0m\n",
      "\u001b[1;32mF:\\Development\\Anaconda\\envs\\aramco_ml2\\lib\\site-packages\\pandas\\core\\internals\\managers.py\u001b[0m in \u001b[0;36mastype\u001b[1;34m(self, dtype, copy, errors)\u001b[0m\n\u001b[0;32m    629\u001b[0m         \u001b[0mself\u001b[0m\u001b[1;33m,\u001b[0m \u001b[0mdtype\u001b[0m\u001b[1;33m,\u001b[0m \u001b[0mcopy\u001b[0m\u001b[1;33m:\u001b[0m \u001b[0mbool\u001b[0m \u001b[1;33m=\u001b[0m \u001b[1;32mFalse\u001b[0m\u001b[1;33m,\u001b[0m \u001b[0merrors\u001b[0m\u001b[1;33m:\u001b[0m \u001b[0mstr\u001b[0m \u001b[1;33m=\u001b[0m \u001b[1;34m\"raise\"\u001b[0m\u001b[1;33m\u001b[0m\u001b[1;33m\u001b[0m\u001b[0m\n\u001b[0;32m    630\u001b[0m     ) -> \"BlockManager\":\n\u001b[1;32m--> 631\u001b[1;33m         \u001b[1;32mreturn\u001b[0m \u001b[0mself\u001b[0m\u001b[1;33m.\u001b[0m\u001b[0mapply\u001b[0m\u001b[1;33m(\u001b[0m\u001b[1;34m\"astype\"\u001b[0m\u001b[1;33m,\u001b[0m \u001b[0mdtype\u001b[0m\u001b[1;33m=\u001b[0m\u001b[0mdtype\u001b[0m\u001b[1;33m,\u001b[0m \u001b[0mcopy\u001b[0m\u001b[1;33m=\u001b[0m\u001b[0mcopy\u001b[0m\u001b[1;33m,\u001b[0m \u001b[0merrors\u001b[0m\u001b[1;33m=\u001b[0m\u001b[0merrors\u001b[0m\u001b[1;33m)\u001b[0m\u001b[1;33m\u001b[0m\u001b[1;33m\u001b[0m\u001b[0m\n\u001b[0m\u001b[0;32m    632\u001b[0m \u001b[1;33m\u001b[0m\u001b[0m\n\u001b[0;32m    633\u001b[0m     def convert(\n",
      "\u001b[1;32mF:\\Development\\Anaconda\\envs\\aramco_ml2\\lib\\site-packages\\pandas\\core\\internals\\managers.py\u001b[0m in \u001b[0;36mapply\u001b[1;34m(self, f, align_keys, ignore_failures, **kwargs)\u001b[0m\n\u001b[0;32m    425\u001b[0m                     \u001b[0mapplied\u001b[0m \u001b[1;33m=\u001b[0m \u001b[0mb\u001b[0m\u001b[1;33m.\u001b[0m\u001b[0mapply\u001b[0m\u001b[1;33m(\u001b[0m\u001b[0mf\u001b[0m\u001b[1;33m,\u001b[0m \u001b[1;33m**\u001b[0m\u001b[0mkwargs\u001b[0m\u001b[1;33m)\u001b[0m\u001b[1;33m\u001b[0m\u001b[1;33m\u001b[0m\u001b[0m\n\u001b[0;32m    426\u001b[0m                 \u001b[1;32melse\u001b[0m\u001b[1;33m:\u001b[0m\u001b[1;33m\u001b[0m\u001b[1;33m\u001b[0m\u001b[0m\n\u001b[1;32m--> 427\u001b[1;33m                     \u001b[0mapplied\u001b[0m \u001b[1;33m=\u001b[0m \u001b[0mgetattr\u001b[0m\u001b[1;33m(\u001b[0m\u001b[0mb\u001b[0m\u001b[1;33m,\u001b[0m \u001b[0mf\u001b[0m\u001b[1;33m)\u001b[0m\u001b[1;33m(\u001b[0m\u001b[1;33m**\u001b[0m\u001b[0mkwargs\u001b[0m\u001b[1;33m)\u001b[0m\u001b[1;33m\u001b[0m\u001b[1;33m\u001b[0m\u001b[0m\n\u001b[0m\u001b[0;32m    428\u001b[0m             \u001b[1;32mexcept\u001b[0m \u001b[1;33m(\u001b[0m\u001b[0mTypeError\u001b[0m\u001b[1;33m,\u001b[0m \u001b[0mNotImplementedError\u001b[0m\u001b[1;33m)\u001b[0m\u001b[1;33m:\u001b[0m\u001b[1;33m\u001b[0m\u001b[1;33m\u001b[0m\u001b[0m\n\u001b[0;32m    429\u001b[0m                 \u001b[1;32mif\u001b[0m \u001b[1;32mnot\u001b[0m \u001b[0mignore_failures\u001b[0m\u001b[1;33m:\u001b[0m\u001b[1;33m\u001b[0m\u001b[1;33m\u001b[0m\u001b[0m\n",
      "\u001b[1;32mF:\\Development\\Anaconda\\envs\\aramco_ml2\\lib\\site-packages\\pandas\\core\\internals\\blocks.py\u001b[0m in \u001b[0;36mastype\u001b[1;34m(self, dtype, copy, errors)\u001b[0m\n\u001b[0;32m    624\u001b[0m \u001b[1;33m\u001b[0m\u001b[0m\n\u001b[0;32m    625\u001b[0m         \u001b[1;32mif\u001b[0m \u001b[0mdtype\u001b[0m \u001b[1;32mis\u001b[0m \u001b[1;32mnot\u001b[0m \u001b[1;32mNone\u001b[0m\u001b[1;33m:\u001b[0m\u001b[1;33m\u001b[0m\u001b[1;33m\u001b[0m\u001b[0m\n\u001b[1;32m--> 626\u001b[1;33m             \u001b[0mdtype\u001b[0m \u001b[1;33m=\u001b[0m \u001b[0mpandas_dtype\u001b[0m\u001b[1;33m(\u001b[0m\u001b[0mdtype\u001b[0m\u001b[1;33m)\u001b[0m\u001b[1;33m\u001b[0m\u001b[1;33m\u001b[0m\u001b[0m\n\u001b[0m\u001b[0;32m    627\u001b[0m \u001b[1;33m\u001b[0m\u001b[0m\n\u001b[0;32m    628\u001b[0m         \u001b[1;31m# may need to convert to categorical\u001b[0m\u001b[1;33m\u001b[0m\u001b[1;33m\u001b[0m\u001b[1;33m\u001b[0m\u001b[0m\n",
      "\u001b[1;32mF:\\Development\\Anaconda\\envs\\aramco_ml2\\lib\\site-packages\\pandas\\core\\dtypes\\common.py\u001b[0m in \u001b[0;36mpandas_dtype\u001b[1;34m(dtype)\u001b[0m\n\u001b[0;32m   1797\u001b[0m     \u001b[1;31m# raise a consistent TypeError if failed\u001b[0m\u001b[1;33m\u001b[0m\u001b[1;33m\u001b[0m\u001b[1;33m\u001b[0m\u001b[0m\n\u001b[0;32m   1798\u001b[0m     \u001b[1;32mtry\u001b[0m\u001b[1;33m:\u001b[0m\u001b[1;33m\u001b[0m\u001b[1;33m\u001b[0m\u001b[0m\n\u001b[1;32m-> 1799\u001b[1;33m         \u001b[0mnpdtype\u001b[0m \u001b[1;33m=\u001b[0m \u001b[0mnp\u001b[0m\u001b[1;33m.\u001b[0m\u001b[0mdtype\u001b[0m\u001b[1;33m(\u001b[0m\u001b[0mdtype\u001b[0m\u001b[1;33m)\u001b[0m\u001b[1;33m\u001b[0m\u001b[1;33m\u001b[0m\u001b[0m\n\u001b[0m\u001b[0;32m   1800\u001b[0m     \u001b[1;32mexcept\u001b[0m \u001b[0mSyntaxError\u001b[0m \u001b[1;32mas\u001b[0m \u001b[0merr\u001b[0m\u001b[1;33m:\u001b[0m\u001b[1;33m\u001b[0m\u001b[1;33m\u001b[0m\u001b[0m\n\u001b[0;32m   1801\u001b[0m         \u001b[1;31m# np.dtype uses `eval` which can raise SyntaxError\u001b[0m\u001b[1;33m\u001b[0m\u001b[1;33m\u001b[0m\u001b[1;33m\u001b[0m\u001b[0m\n",
      "\u001b[1;31mTypeError\u001b[0m: Cannot interpret '<module 'datetime' from 'F:\\\\Development\\\\Anaconda\\\\envs\\\\aramco_ml2\\\\lib\\\\datetime.py'>' as a data type"
     ]
    }
   ],
   "source": [
    "bd = mdf.BIRTH_DATE.astype(datetime)"
   ]
  },
  {
   "cell_type": "code",
   "execution_count": 23,
   "id": "50ea456a",
   "metadata": {
    "ExecuteTime": {
     "end_time": "2022-03-13T12:03:33.706057Z",
     "start_time": "2022-03-13T12:03:33.664058Z"
    }
   },
   "outputs": [
    {
     "data": {
      "text/html": [
       "<div>\n",
       "<style scoped>\n",
       "    .dataframe tbody tr th:only-of-type {\n",
       "        vertical-align: middle;\n",
       "    }\n",
       "\n",
       "    .dataframe tbody tr th {\n",
       "        vertical-align: top;\n",
       "    }\n",
       "\n",
       "    .dataframe thead th {\n",
       "        text-align: right;\n",
       "    }\n",
       "</style>\n",
       "<table border=\"1\" class=\"dataframe\">\n",
       "  <thead>\n",
       "    <tr style=\"text-align: right;\">\n",
       "      <th></th>\n",
       "      <th>BIRTH_DATE</th>\n",
       "    </tr>\n",
       "  </thead>\n",
       "  <tbody>\n",
       "    <tr>\n",
       "      <th>0</th>\n",
       "      <td>[1986, 03, 24]</td>\n",
       "    </tr>\n",
       "    <tr>\n",
       "      <th>1</th>\n",
       "      <td>[1985, 08, 18]</td>\n",
       "    </tr>\n",
       "    <tr>\n",
       "      <th>2</th>\n",
       "      <td>[1985, 07, 02]</td>\n",
       "    </tr>\n",
       "    <tr>\n",
       "      <th>3</th>\n",
       "      <td>[1979, 01, 01]</td>\n",
       "    </tr>\n",
       "    <tr>\n",
       "      <th>4</th>\n",
       "      <td>[1977, 01, 20]</td>\n",
       "    </tr>\n",
       "    <tr>\n",
       "      <th>...</th>\n",
       "      <td>...</td>\n",
       "    </tr>\n",
       "    <tr>\n",
       "      <th>900855</th>\n",
       "      <td>[1993, 10, 20]</td>\n",
       "    </tr>\n",
       "    <tr>\n",
       "      <th>900856</th>\n",
       "      <td>[1977, 09, 01]</td>\n",
       "    </tr>\n",
       "    <tr>\n",
       "      <th>900857</th>\n",
       "      <td>[1980, 01, 05]</td>\n",
       "    </tr>\n",
       "    <tr>\n",
       "      <th>900858</th>\n",
       "      <td>[1986, 04, 04]</td>\n",
       "    </tr>\n",
       "    <tr>\n",
       "      <th>900859</th>\n",
       "      <td>[1986, 06, 06]</td>\n",
       "    </tr>\n",
       "  </tbody>\n",
       "</table>\n",
       "<p>900860 rows × 1 columns</p>\n",
       "</div>"
      ],
      "text/plain": [
       "            BIRTH_DATE\n",
       "0       [1986, 03, 24]\n",
       "1       [1985, 08, 18]\n",
       "2       [1985, 07, 02]\n",
       "3       [1979, 01, 01]\n",
       "4       [1977, 01, 20]\n",
       "...                ...\n",
       "900855  [1993, 10, 20]\n",
       "900856  [1977, 09, 01]\n",
       "900857  [1980, 01, 05]\n",
       "900858  [1986, 04, 04]\n",
       "900859  [1986, 06, 06]\n",
       "\n",
       "[900860 rows x 1 columns]"
      ]
     },
     "execution_count": 23,
     "metadata": {},
     "output_type": "execute_result"
    }
   ],
   "source": [
    "bd.to_frame()"
   ]
  },
  {
   "cell_type": "code",
   "execution_count": 11,
   "id": "fc474d7f",
   "metadata": {
    "ExecuteTime": {
     "end_time": "2022-03-13T11:57:46.152110Z",
     "start_time": "2022-03-13T11:57:45.929116Z"
    },
    "scrolled": true
   },
   "outputs": [
    {
     "name": "stderr",
     "output_type": "stream",
     "text": [
      "F:\\Development\\Anaconda\\envs\\aramco_ml2\\lib\\site-packages\\plotly\\graph_objs\\_deprecations.py:31: DeprecationWarning:\n",
      "\n",
      "plotly.graph_objs.Data is deprecated.\n",
      "Please replace it with a list or tuple of instances of the following types\n",
      "  - plotly.graph_objs.Scatter\n",
      "  - plotly.graph_objs.Bar\n",
      "  - plotly.graph_objs.Area\n",
      "  - plotly.graph_objs.Histogram\n",
      "  - etc.\n",
      "\n",
      "\n"
     ]
    },
    {
     "data": {
      "application/vnd.plotly.v1+json": {
       "config": {
        "linkText": "Export to plot.ly",
        "plotlyServerURL": "https://plot.ly",
        "showLink": false
       },
       "data": [
        {
         "marker": {
          "color": "#FFAA00"
         },
         "type": "bar",
         "x": [
          "HYUNDAI",
          "CHEVROLET",
          "NISSAN",
          "KIA",
          "MITSUBISHI",
          "GELY",
          "RENAULT",
          "BYD",
          "SUZUKI",
          "CHERY",
          "TOYOTA",
          "LADA",
          "Speranza",
          "OPEL",
          "BAIC",
          "Peugeot",
          "Brilliance",
          "SKODA",
          "Gelory",
          "Saipa",
          "Jack",
          "BMW",
          "Changan",
          "FIAT",
          "PROTON",
          "MAZDA",
          "Citroen",
          "JEEP",
          "Ssang Yong",
          "Isuzu",
          "Kenbo",
          "DAIHATSU",
          "VOLKSWAGEN",
          "SEAT",
          "FORD",
          "SUBARU",
          "MERCEDES",
          "CHANGY",
          "HAIMA",
          "DFSK",
          "Chana",
          "Zoty",
          "HONDA",
          "MG",
          "AUDI",
          "Great Wall",
          "VOLVO",
          "Faw",
          "CARRY",
          "MINI",
          "FLORIDA",
          "SAWEAST",
          "ZEMEX",
          "Livan",
          "MABLE",
          "VICTORY",
          "HAWTAI",
          "Dodge",
          "Mahindra",
          "JAGUAR"
         ],
         "y": [
          181998,
          119271,
          97261,
          86344,
          77811,
          73505,
          61484,
          30796,
          20612,
          18404,
          15302,
          8879,
          8580,
          8293,
          6906,
          6798,
          6328,
          5701,
          4732,
          4542,
          3920,
          3650,
          3642,
          3125,
          3095,
          2640,
          2355,
          2258,
          1955,
          1799,
          1776,
          1729,
          1619,
          1519,
          1479,
          1395,
          1337,
          1109,
          858,
          824,
          746,
          611,
          338,
          273,
          240,
          219,
          193,
          180,
          162,
          125,
          109,
          107,
          96,
          81,
          78,
          36,
          34,
          34,
          33,
          16
         ]
        }
       ],
       "layout": {
        "annotations": [
         {
          "font": {
           "size": 10
          },
          "showarrow": false,
          "text": "181,998",
          "x": "HYUNDAI",
          "xanchor": "center",
          "y": 181998,
          "yanchor": "bottom"
         },
         {
          "font": {
           "size": 10
          },
          "showarrow": false,
          "text": "119,271",
          "x": "CHEVROLET",
          "xanchor": "center",
          "y": 119271,
          "yanchor": "bottom"
         },
         {
          "font": {
           "size": 10
          },
          "showarrow": false,
          "text": "97,261",
          "x": "NISSAN",
          "xanchor": "center",
          "y": 97261,
          "yanchor": "bottom"
         },
         {
          "font": {
           "size": 10
          },
          "showarrow": false,
          "text": "86,344",
          "x": "KIA",
          "xanchor": "center",
          "y": 86344,
          "yanchor": "bottom"
         },
         {
          "font": {
           "size": 10
          },
          "showarrow": false,
          "text": "77,811",
          "x": "MITSUBISHI",
          "xanchor": "center",
          "y": 77811,
          "yanchor": "bottom"
         },
         {
          "font": {
           "size": 10
          },
          "showarrow": false,
          "text": "73,505",
          "x": "GELY",
          "xanchor": "center",
          "y": 73505,
          "yanchor": "bottom"
         },
         {
          "font": {
           "size": 10
          },
          "showarrow": false,
          "text": "61,484",
          "x": "RENAULT",
          "xanchor": "center",
          "y": 61484,
          "yanchor": "bottom"
         },
         {
          "font": {
           "size": 10
          },
          "showarrow": false,
          "text": "30,796",
          "x": "BYD",
          "xanchor": "center",
          "y": 30796,
          "yanchor": "bottom"
         },
         {
          "font": {
           "size": 10
          },
          "showarrow": false,
          "text": "20,612",
          "x": "SUZUKI",
          "xanchor": "center",
          "y": 20612,
          "yanchor": "bottom"
         },
         {
          "font": {
           "size": 10
          },
          "showarrow": false,
          "text": "18,404",
          "x": "CHERY",
          "xanchor": "center",
          "y": 18404,
          "yanchor": "bottom"
         },
         {
          "font": {
           "size": 10
          },
          "showarrow": false,
          "text": "15,302",
          "x": "TOYOTA",
          "xanchor": "center",
          "y": 15302,
          "yanchor": "bottom"
         },
         {
          "font": {
           "size": 10
          },
          "showarrow": false,
          "text": "8,879",
          "x": "LADA",
          "xanchor": "center",
          "y": 8879,
          "yanchor": "bottom"
         },
         {
          "font": {
           "size": 10
          },
          "showarrow": false,
          "text": "8,580",
          "x": "Speranza",
          "xanchor": "center",
          "y": 8580,
          "yanchor": "bottom"
         },
         {
          "font": {
           "size": 10
          },
          "showarrow": false,
          "text": "8,293",
          "x": "OPEL",
          "xanchor": "center",
          "y": 8293,
          "yanchor": "bottom"
         },
         {
          "font": {
           "size": 10
          },
          "showarrow": false,
          "text": "6,906",
          "x": "BAIC",
          "xanchor": "center",
          "y": 6906,
          "yanchor": "bottom"
         },
         {
          "font": {
           "size": 10
          },
          "showarrow": false,
          "text": "6,798",
          "x": "Peugeot",
          "xanchor": "center",
          "y": 6798,
          "yanchor": "bottom"
         },
         {
          "font": {
           "size": 10
          },
          "showarrow": false,
          "text": "6,328",
          "x": "Brilliance",
          "xanchor": "center",
          "y": 6328,
          "yanchor": "bottom"
         },
         {
          "font": {
           "size": 10
          },
          "showarrow": false,
          "text": "5,701",
          "x": "SKODA",
          "xanchor": "center",
          "y": 5701,
          "yanchor": "bottom"
         },
         {
          "font": {
           "size": 10
          },
          "showarrow": false,
          "text": "4,732",
          "x": "Gelory",
          "xanchor": "center",
          "y": 4732,
          "yanchor": "bottom"
         },
         {
          "font": {
           "size": 10
          },
          "showarrow": false,
          "text": "4,542",
          "x": "Saipa",
          "xanchor": "center",
          "y": 4542,
          "yanchor": "bottom"
         },
         {
          "font": {
           "size": 10
          },
          "showarrow": false,
          "text": "3,920",
          "x": "Jack",
          "xanchor": "center",
          "y": 3920,
          "yanchor": "bottom"
         },
         {
          "font": {
           "size": 10
          },
          "showarrow": false,
          "text": "3,650",
          "x": "BMW",
          "xanchor": "center",
          "y": 3650,
          "yanchor": "bottom"
         },
         {
          "font": {
           "size": 10
          },
          "showarrow": false,
          "text": "3,642",
          "x": "Changan",
          "xanchor": "center",
          "y": 3642,
          "yanchor": "bottom"
         },
         {
          "font": {
           "size": 10
          },
          "showarrow": false,
          "text": "3,125",
          "x": "FIAT",
          "xanchor": "center",
          "y": 3125,
          "yanchor": "bottom"
         },
         {
          "font": {
           "size": 10
          },
          "showarrow": false,
          "text": "3,095",
          "x": "PROTON",
          "xanchor": "center",
          "y": 3095,
          "yanchor": "bottom"
         },
         {
          "font": {
           "size": 10
          },
          "showarrow": false,
          "text": "2,640",
          "x": "MAZDA",
          "xanchor": "center",
          "y": 2640,
          "yanchor": "bottom"
         },
         {
          "font": {
           "size": 10
          },
          "showarrow": false,
          "text": "2,355",
          "x": "Citroen",
          "xanchor": "center",
          "y": 2355,
          "yanchor": "bottom"
         },
         {
          "font": {
           "size": 10
          },
          "showarrow": false,
          "text": "2,258",
          "x": "JEEP",
          "xanchor": "center",
          "y": 2258,
          "yanchor": "bottom"
         },
         {
          "font": {
           "size": 10
          },
          "showarrow": false,
          "text": "1,955",
          "x": "Ssang Yong",
          "xanchor": "center",
          "y": 1955,
          "yanchor": "bottom"
         },
         {
          "font": {
           "size": 10
          },
          "showarrow": false,
          "text": "1,799",
          "x": "Isuzu",
          "xanchor": "center",
          "y": 1799,
          "yanchor": "bottom"
         },
         {
          "font": {
           "size": 10
          },
          "showarrow": false,
          "text": "1,776",
          "x": "Kenbo",
          "xanchor": "center",
          "y": 1776,
          "yanchor": "bottom"
         },
         {
          "font": {
           "size": 10
          },
          "showarrow": false,
          "text": "1,729",
          "x": "DAIHATSU",
          "xanchor": "center",
          "y": 1729,
          "yanchor": "bottom"
         },
         {
          "font": {
           "size": 10
          },
          "showarrow": false,
          "text": "1,619",
          "x": "VOLKSWAGEN",
          "xanchor": "center",
          "y": 1619,
          "yanchor": "bottom"
         },
         {
          "font": {
           "size": 10
          },
          "showarrow": false,
          "text": "1,519",
          "x": "SEAT",
          "xanchor": "center",
          "y": 1519,
          "yanchor": "bottom"
         },
         {
          "font": {
           "size": 10
          },
          "showarrow": false,
          "text": "1,479",
          "x": "FORD",
          "xanchor": "center",
          "y": 1479,
          "yanchor": "bottom"
         },
         {
          "font": {
           "size": 10
          },
          "showarrow": false,
          "text": "1,395",
          "x": "SUBARU",
          "xanchor": "center",
          "y": 1395,
          "yanchor": "bottom"
         },
         {
          "font": {
           "size": 10
          },
          "showarrow": false,
          "text": "1,337",
          "x": "MERCEDES",
          "xanchor": "center",
          "y": 1337,
          "yanchor": "bottom"
         },
         {
          "font": {
           "size": 10
          },
          "showarrow": false,
          "text": "1,109",
          "x": "CHANGY",
          "xanchor": "center",
          "y": 1109,
          "yanchor": "bottom"
         },
         {
          "font": {
           "size": 10
          },
          "showarrow": false,
          "text": "858",
          "x": "HAIMA",
          "xanchor": "center",
          "y": 858,
          "yanchor": "bottom"
         },
         {
          "font": {
           "size": 10
          },
          "showarrow": false,
          "text": "824",
          "x": "DFSK",
          "xanchor": "center",
          "y": 824,
          "yanchor": "bottom"
         },
         {
          "font": {
           "size": 10
          },
          "showarrow": false,
          "text": "746",
          "x": "Chana",
          "xanchor": "center",
          "y": 746,
          "yanchor": "bottom"
         },
         {
          "font": {
           "size": 10
          },
          "showarrow": false,
          "text": "611",
          "x": "Zoty",
          "xanchor": "center",
          "y": 611,
          "yanchor": "bottom"
         },
         {
          "font": {
           "size": 10
          },
          "showarrow": false,
          "text": "338",
          "x": "HONDA",
          "xanchor": "center",
          "y": 338,
          "yanchor": "bottom"
         },
         {
          "font": {
           "size": 10
          },
          "showarrow": false,
          "text": "273",
          "x": "MG",
          "xanchor": "center",
          "y": 273,
          "yanchor": "bottom"
         },
         {
          "font": {
           "size": 10
          },
          "showarrow": false,
          "text": "240",
          "x": "AUDI",
          "xanchor": "center",
          "y": 240,
          "yanchor": "bottom"
         },
         {
          "font": {
           "size": 10
          },
          "showarrow": false,
          "text": "219",
          "x": "Great Wall",
          "xanchor": "center",
          "y": 219,
          "yanchor": "bottom"
         },
         {
          "font": {
           "size": 10
          },
          "showarrow": false,
          "text": "193",
          "x": "VOLVO",
          "xanchor": "center",
          "y": 193,
          "yanchor": "bottom"
         },
         {
          "font": {
           "size": 10
          },
          "showarrow": false,
          "text": "180",
          "x": "Faw",
          "xanchor": "center",
          "y": 180,
          "yanchor": "bottom"
         },
         {
          "font": {
           "size": 10
          },
          "showarrow": false,
          "text": "162",
          "x": "CARRY",
          "xanchor": "center",
          "y": 162,
          "yanchor": "bottom"
         },
         {
          "font": {
           "size": 10
          },
          "showarrow": false,
          "text": "125",
          "x": "MINI",
          "xanchor": "center",
          "y": 125,
          "yanchor": "bottom"
         },
         {
          "font": {
           "size": 10
          },
          "showarrow": false,
          "text": "109",
          "x": "FLORIDA",
          "xanchor": "center",
          "y": 109,
          "yanchor": "bottom"
         },
         {
          "font": {
           "size": 10
          },
          "showarrow": false,
          "text": "107",
          "x": "SAWEAST",
          "xanchor": "center",
          "y": 107,
          "yanchor": "bottom"
         },
         {
          "font": {
           "size": 10
          },
          "showarrow": false,
          "text": "96",
          "x": "ZEMEX",
          "xanchor": "center",
          "y": 96,
          "yanchor": "bottom"
         },
         {
          "font": {
           "size": 10
          },
          "showarrow": false,
          "text": "81",
          "x": "Livan",
          "xanchor": "center",
          "y": 81,
          "yanchor": "bottom"
         },
         {
          "font": {
           "size": 10
          },
          "showarrow": false,
          "text": "78",
          "x": "MABLE",
          "xanchor": "center",
          "y": 78,
          "yanchor": "bottom"
         },
         {
          "font": {
           "size": 10
          },
          "showarrow": false,
          "text": "36",
          "x": "VICTORY",
          "xanchor": "center",
          "y": 36,
          "yanchor": "bottom"
         },
         {
          "font": {
           "size": 10
          },
          "showarrow": false,
          "text": "34",
          "x": "HAWTAI",
          "xanchor": "center",
          "y": 34,
          "yanchor": "bottom"
         },
         {
          "font": {
           "size": 10
          },
          "showarrow": false,
          "text": "34",
          "x": "Dodge",
          "xanchor": "center",
          "y": 34,
          "yanchor": "bottom"
         },
         {
          "font": {
           "size": 10
          },
          "showarrow": false,
          "text": "33",
          "x": "Mahindra",
          "xanchor": "center",
          "y": 33,
          "yanchor": "bottom"
         },
         {
          "font": {
           "size": 10
          },
          "showarrow": false,
          "text": "16",
          "x": "JAGUAR",
          "xanchor": "center",
          "y": 16,
          "yanchor": "bottom"
         },
         {
          "font": {
           "color": "#FF27C1"
          },
          "showarrow": false,
          "text": "20.46%",
          "x": "HYUNDAI",
          "xanchor": "center",
          "y": 90999,
          "yanchor": "middle"
         },
         {
          "font": {
           "color": "#FF27C1"
          },
          "showarrow": false,
          "text": "13.41%",
          "x": "CHEVROLET",
          "xanchor": "center",
          "y": 59635.5,
          "yanchor": "middle"
         },
         {
          "font": {
           "color": "#FF27C1"
          },
          "showarrow": false,
          "text": "10.94%",
          "x": "NISSAN",
          "xanchor": "center",
          "y": 48630.5,
          "yanchor": "middle"
         }
        ],
        "plot_bgcolor": "#FFF8EC",
        "template": {
         "data": {
          "bar": [
           {
            "error_x": {
             "color": "#2a3f5f"
            },
            "error_y": {
             "color": "#2a3f5f"
            },
            "marker": {
             "line": {
              "color": "#E5ECF6",
              "width": 0.5
             },
             "pattern": {
              "fillmode": "overlay",
              "size": 10,
              "solidity": 0.2
             }
            },
            "type": "bar"
           }
          ],
          "barpolar": [
           {
            "marker": {
             "line": {
              "color": "#E5ECF6",
              "width": 0.5
             },
             "pattern": {
              "fillmode": "overlay",
              "size": 10,
              "solidity": 0.2
             }
            },
            "type": "barpolar"
           }
          ],
          "carpet": [
           {
            "aaxis": {
             "endlinecolor": "#2a3f5f",
             "gridcolor": "white",
             "linecolor": "white",
             "minorgridcolor": "white",
             "startlinecolor": "#2a3f5f"
            },
            "baxis": {
             "endlinecolor": "#2a3f5f",
             "gridcolor": "white",
             "linecolor": "white",
             "minorgridcolor": "white",
             "startlinecolor": "#2a3f5f"
            },
            "type": "carpet"
           }
          ],
          "choropleth": [
           {
            "colorbar": {
             "outlinewidth": 0,
             "ticks": ""
            },
            "type": "choropleth"
           }
          ],
          "contour": [
           {
            "colorbar": {
             "outlinewidth": 0,
             "ticks": ""
            },
            "colorscale": [
             [
              0,
              "#0d0887"
             ],
             [
              0.1111111111111111,
              "#46039f"
             ],
             [
              0.2222222222222222,
              "#7201a8"
             ],
             [
              0.3333333333333333,
              "#9c179e"
             ],
             [
              0.4444444444444444,
              "#bd3786"
             ],
             [
              0.5555555555555556,
              "#d8576b"
             ],
             [
              0.6666666666666666,
              "#ed7953"
             ],
             [
              0.7777777777777778,
              "#fb9f3a"
             ],
             [
              0.8888888888888888,
              "#fdca26"
             ],
             [
              1,
              "#f0f921"
             ]
            ],
            "type": "contour"
           }
          ],
          "contourcarpet": [
           {
            "colorbar": {
             "outlinewidth": 0,
             "ticks": ""
            },
            "type": "contourcarpet"
           }
          ],
          "heatmap": [
           {
            "colorbar": {
             "outlinewidth": 0,
             "ticks": ""
            },
            "colorscale": [
             [
              0,
              "#0d0887"
             ],
             [
              0.1111111111111111,
              "#46039f"
             ],
             [
              0.2222222222222222,
              "#7201a8"
             ],
             [
              0.3333333333333333,
              "#9c179e"
             ],
             [
              0.4444444444444444,
              "#bd3786"
             ],
             [
              0.5555555555555556,
              "#d8576b"
             ],
             [
              0.6666666666666666,
              "#ed7953"
             ],
             [
              0.7777777777777778,
              "#fb9f3a"
             ],
             [
              0.8888888888888888,
              "#fdca26"
             ],
             [
              1,
              "#f0f921"
             ]
            ],
            "type": "heatmap"
           }
          ],
          "heatmapgl": [
           {
            "colorbar": {
             "outlinewidth": 0,
             "ticks": ""
            },
            "colorscale": [
             [
              0,
              "#0d0887"
             ],
             [
              0.1111111111111111,
              "#46039f"
             ],
             [
              0.2222222222222222,
              "#7201a8"
             ],
             [
              0.3333333333333333,
              "#9c179e"
             ],
             [
              0.4444444444444444,
              "#bd3786"
             ],
             [
              0.5555555555555556,
              "#d8576b"
             ],
             [
              0.6666666666666666,
              "#ed7953"
             ],
             [
              0.7777777777777778,
              "#fb9f3a"
             ],
             [
              0.8888888888888888,
              "#fdca26"
             ],
             [
              1,
              "#f0f921"
             ]
            ],
            "type": "heatmapgl"
           }
          ],
          "histogram": [
           {
            "marker": {
             "pattern": {
              "fillmode": "overlay",
              "size": 10,
              "solidity": 0.2
             }
            },
            "type": "histogram"
           }
          ],
          "histogram2d": [
           {
            "colorbar": {
             "outlinewidth": 0,
             "ticks": ""
            },
            "colorscale": [
             [
              0,
              "#0d0887"
             ],
             [
              0.1111111111111111,
              "#46039f"
             ],
             [
              0.2222222222222222,
              "#7201a8"
             ],
             [
              0.3333333333333333,
              "#9c179e"
             ],
             [
              0.4444444444444444,
              "#bd3786"
             ],
             [
              0.5555555555555556,
              "#d8576b"
             ],
             [
              0.6666666666666666,
              "#ed7953"
             ],
             [
              0.7777777777777778,
              "#fb9f3a"
             ],
             [
              0.8888888888888888,
              "#fdca26"
             ],
             [
              1,
              "#f0f921"
             ]
            ],
            "type": "histogram2d"
           }
          ],
          "histogram2dcontour": [
           {
            "colorbar": {
             "outlinewidth": 0,
             "ticks": ""
            },
            "colorscale": [
             [
              0,
              "#0d0887"
             ],
             [
              0.1111111111111111,
              "#46039f"
             ],
             [
              0.2222222222222222,
              "#7201a8"
             ],
             [
              0.3333333333333333,
              "#9c179e"
             ],
             [
              0.4444444444444444,
              "#bd3786"
             ],
             [
              0.5555555555555556,
              "#d8576b"
             ],
             [
              0.6666666666666666,
              "#ed7953"
             ],
             [
              0.7777777777777778,
              "#fb9f3a"
             ],
             [
              0.8888888888888888,
              "#fdca26"
             ],
             [
              1,
              "#f0f921"
             ]
            ],
            "type": "histogram2dcontour"
           }
          ],
          "mesh3d": [
           {
            "colorbar": {
             "outlinewidth": 0,
             "ticks": ""
            },
            "type": "mesh3d"
           }
          ],
          "parcoords": [
           {
            "line": {
             "colorbar": {
              "outlinewidth": 0,
              "ticks": ""
             }
            },
            "type": "parcoords"
           }
          ],
          "pie": [
           {
            "automargin": true,
            "type": "pie"
           }
          ],
          "scatter": [
           {
            "marker": {
             "colorbar": {
              "outlinewidth": 0,
              "ticks": ""
             }
            },
            "type": "scatter"
           }
          ],
          "scatter3d": [
           {
            "line": {
             "colorbar": {
              "outlinewidth": 0,
              "ticks": ""
             }
            },
            "marker": {
             "colorbar": {
              "outlinewidth": 0,
              "ticks": ""
             }
            },
            "type": "scatter3d"
           }
          ],
          "scattercarpet": [
           {
            "marker": {
             "colorbar": {
              "outlinewidth": 0,
              "ticks": ""
             }
            },
            "type": "scattercarpet"
           }
          ],
          "scattergeo": [
           {
            "marker": {
             "colorbar": {
              "outlinewidth": 0,
              "ticks": ""
             }
            },
            "type": "scattergeo"
           }
          ],
          "scattergl": [
           {
            "marker": {
             "colorbar": {
              "outlinewidth": 0,
              "ticks": ""
             }
            },
            "type": "scattergl"
           }
          ],
          "scattermapbox": [
           {
            "marker": {
             "colorbar": {
              "outlinewidth": 0,
              "ticks": ""
             }
            },
            "type": "scattermapbox"
           }
          ],
          "scatterpolar": [
           {
            "marker": {
             "colorbar": {
              "outlinewidth": 0,
              "ticks": ""
             }
            },
            "type": "scatterpolar"
           }
          ],
          "scatterpolargl": [
           {
            "marker": {
             "colorbar": {
              "outlinewidth": 0,
              "ticks": ""
             }
            },
            "type": "scatterpolargl"
           }
          ],
          "scatterternary": [
           {
            "marker": {
             "colorbar": {
              "outlinewidth": 0,
              "ticks": ""
             }
            },
            "type": "scatterternary"
           }
          ],
          "surface": [
           {
            "colorbar": {
             "outlinewidth": 0,
             "ticks": ""
            },
            "colorscale": [
             [
              0,
              "#0d0887"
             ],
             [
              0.1111111111111111,
              "#46039f"
             ],
             [
              0.2222222222222222,
              "#7201a8"
             ],
             [
              0.3333333333333333,
              "#9c179e"
             ],
             [
              0.4444444444444444,
              "#bd3786"
             ],
             [
              0.5555555555555556,
              "#d8576b"
             ],
             [
              0.6666666666666666,
              "#ed7953"
             ],
             [
              0.7777777777777778,
              "#fb9f3a"
             ],
             [
              0.8888888888888888,
              "#fdca26"
             ],
             [
              1,
              "#f0f921"
             ]
            ],
            "type": "surface"
           }
          ],
          "table": [
           {
            "cells": {
             "fill": {
              "color": "#EBF0F8"
             },
             "line": {
              "color": "white"
             }
            },
            "header": {
             "fill": {
              "color": "#C8D4E3"
             },
             "line": {
              "color": "white"
             }
            },
            "type": "table"
           }
          ]
         },
         "layout": {
          "annotationdefaults": {
           "arrowcolor": "#2a3f5f",
           "arrowhead": 0,
           "arrowwidth": 1
          },
          "autotypenumbers": "strict",
          "coloraxis": {
           "colorbar": {
            "outlinewidth": 0,
            "ticks": ""
           }
          },
          "colorscale": {
           "diverging": [
            [
             0,
             "#8e0152"
            ],
            [
             0.1,
             "#c51b7d"
            ],
            [
             0.2,
             "#de77ae"
            ],
            [
             0.3,
             "#f1b6da"
            ],
            [
             0.4,
             "#fde0ef"
            ],
            [
             0.5,
             "#f7f7f7"
            ],
            [
             0.6,
             "#e6f5d0"
            ],
            [
             0.7,
             "#b8e186"
            ],
            [
             0.8,
             "#7fbc41"
            ],
            [
             0.9,
             "#4d9221"
            ],
            [
             1,
             "#276419"
            ]
           ],
           "sequential": [
            [
             0,
             "#0d0887"
            ],
            [
             0.1111111111111111,
             "#46039f"
            ],
            [
             0.2222222222222222,
             "#7201a8"
            ],
            [
             0.3333333333333333,
             "#9c179e"
            ],
            [
             0.4444444444444444,
             "#bd3786"
            ],
            [
             0.5555555555555556,
             "#d8576b"
            ],
            [
             0.6666666666666666,
             "#ed7953"
            ],
            [
             0.7777777777777778,
             "#fb9f3a"
            ],
            [
             0.8888888888888888,
             "#fdca26"
            ],
            [
             1,
             "#f0f921"
            ]
           ],
           "sequentialminus": [
            [
             0,
             "#0d0887"
            ],
            [
             0.1111111111111111,
             "#46039f"
            ],
            [
             0.2222222222222222,
             "#7201a8"
            ],
            [
             0.3333333333333333,
             "#9c179e"
            ],
            [
             0.4444444444444444,
             "#bd3786"
            ],
            [
             0.5555555555555556,
             "#d8576b"
            ],
            [
             0.6666666666666666,
             "#ed7953"
            ],
            [
             0.7777777777777778,
             "#fb9f3a"
            ],
            [
             0.8888888888888888,
             "#fdca26"
            ],
            [
             1,
             "#f0f921"
            ]
           ]
          },
          "colorway": [
           "#636efa",
           "#EF553B",
           "#00cc96",
           "#ab63fa",
           "#FFA15A",
           "#19d3f3",
           "#FF6692",
           "#B6E880",
           "#FF97FF",
           "#FECB52"
          ],
          "font": {
           "color": "#2a3f5f"
          },
          "geo": {
           "bgcolor": "white",
           "lakecolor": "white",
           "landcolor": "#E5ECF6",
           "showlakes": true,
           "showland": true,
           "subunitcolor": "white"
          },
          "hoverlabel": {
           "align": "left"
          },
          "hovermode": "closest",
          "mapbox": {
           "style": "light"
          },
          "paper_bgcolor": "white",
          "plot_bgcolor": "#E5ECF6",
          "polar": {
           "angularaxis": {
            "gridcolor": "white",
            "linecolor": "white",
            "ticks": ""
           },
           "bgcolor": "#E5ECF6",
           "radialaxis": {
            "gridcolor": "white",
            "linecolor": "white",
            "ticks": ""
           }
          },
          "scene": {
           "xaxis": {
            "backgroundcolor": "#E5ECF6",
            "gridcolor": "white",
            "gridwidth": 2,
            "linecolor": "white",
            "showbackground": true,
            "ticks": "",
            "zerolinecolor": "white"
           },
           "yaxis": {
            "backgroundcolor": "#E5ECF6",
            "gridcolor": "white",
            "gridwidth": 2,
            "linecolor": "white",
            "showbackground": true,
            "ticks": "",
            "zerolinecolor": "white"
           },
           "zaxis": {
            "backgroundcolor": "#E5ECF6",
            "gridcolor": "white",
            "gridwidth": 2,
            "linecolor": "white",
            "showbackground": true,
            "ticks": "",
            "zerolinecolor": "white"
           }
          },
          "shapedefaults": {
           "line": {
            "color": "#2a3f5f"
           }
          },
          "ternary": {
           "aaxis": {
            "gridcolor": "white",
            "linecolor": "white",
            "ticks": ""
           },
           "baxis": {
            "gridcolor": "white",
            "linecolor": "white",
            "ticks": ""
           },
           "bgcolor": "#E5ECF6",
           "caxis": {
            "gridcolor": "white",
            "linecolor": "white",
            "ticks": ""
           }
          },
          "title": {
           "x": 0.05
          },
          "xaxis": {
           "automargin": true,
           "gridcolor": "white",
           "linecolor": "white",
           "ticks": "",
           "title": {
            "standoff": 15
           },
           "zerolinecolor": "white",
           "zerolinewidth": 2
          },
          "yaxis": {
           "automargin": true,
           "gridcolor": "white",
           "linecolor": "white",
           "ticks": "",
           "title": {
            "standoff": 15
           },
           "zerolinecolor": "white",
           "zerolinewidth": 2
          }
         }
        },
        "title": {
         "font": {
          "size": 50
         },
         "text": "Car type"
        },
        "xaxis": {
         "type": "category"
        },
        "yaxis": {
         "title": {
          "text": "count"
         }
        }
       }
      },
      "text/html": [
       "<div>                            <div id=\"94a15164-73a9-4909-93f6-8cc90830c5a0\" class=\"plotly-graph-div\" style=\"height:525px; width:100%;\"></div>            <script type=\"text/javascript\">                require([\"plotly\"], function(Plotly) {                    window.PLOTLYENV=window.PLOTLYENV || {};                                    if (document.getElementById(\"94a15164-73a9-4909-93f6-8cc90830c5a0\")) {                    Plotly.newPlot(                        \"94a15164-73a9-4909-93f6-8cc90830c5a0\",                        [{\"marker\":{\"color\":\"#FFAA00\"},\"x\":[\"HYUNDAI\",\"CHEVROLET\",\"NISSAN\",\"KIA\",\"MITSUBISHI\",\"GELY\",\"RENAULT\",\"BYD\",\"SUZUKI\",\"CHERY\",\"TOYOTA\",\"LADA\",\"Speranza\",\"OPEL\",\"BAIC\",\"Peugeot\",\"Brilliance\",\"SKODA\",\"Gelory\",\"Saipa\",\"Jack\",\"BMW\",\"Changan\",\"FIAT\",\"PROTON\",\"MAZDA\",\"Citroen\",\"JEEP\",\"Ssang Yong\",\"Isuzu\",\"Kenbo\",\"DAIHATSU\",\"VOLKSWAGEN\",\"SEAT\",\"FORD\",\"SUBARU\",\"MERCEDES\",\"CHANGY\",\"HAIMA\",\"DFSK\",\"Chana\",\"Zoty\",\"HONDA\",\"MG\",\"AUDI\",\"Great Wall\",\"VOLVO\",\"Faw\",\"CARRY\",\"MINI\",\"FLORIDA\",\"SAWEAST\",\"ZEMEX\",\"Livan\",\"MABLE\",\"VICTORY\",\"HAWTAI\",\"Dodge\",\"Mahindra\",\"JAGUAR\"],\"y\":[181998,119271,97261,86344,77811,73505,61484,30796,20612,18404,15302,8879,8580,8293,6906,6798,6328,5701,4732,4542,3920,3650,3642,3125,3095,2640,2355,2258,1955,1799,1776,1729,1619,1519,1479,1395,1337,1109,858,824,746,611,338,273,240,219,193,180,162,125,109,107,96,81,78,36,34,34,33,16],\"type\":\"bar\"}],                        {\"annotations\":[{\"font\":{\"size\":10},\"showarrow\":false,\"text\":\"181,998\",\"x\":\"HYUNDAI\",\"xanchor\":\"center\",\"y\":181998,\"yanchor\":\"bottom\"},{\"font\":{\"size\":10},\"showarrow\":false,\"text\":\"119,271\",\"x\":\"CHEVROLET\",\"xanchor\":\"center\",\"y\":119271,\"yanchor\":\"bottom\"},{\"font\":{\"size\":10},\"showarrow\":false,\"text\":\"97,261\",\"x\":\"NISSAN\",\"xanchor\":\"center\",\"y\":97261,\"yanchor\":\"bottom\"},{\"font\":{\"size\":10},\"showarrow\":false,\"text\":\"86,344\",\"x\":\"KIA\",\"xanchor\":\"center\",\"y\":86344,\"yanchor\":\"bottom\"},{\"font\":{\"size\":10},\"showarrow\":false,\"text\":\"77,811\",\"x\":\"MITSUBISHI\",\"xanchor\":\"center\",\"y\":77811,\"yanchor\":\"bottom\"},{\"font\":{\"size\":10},\"showarrow\":false,\"text\":\"73,505\",\"x\":\"GELY\",\"xanchor\":\"center\",\"y\":73505,\"yanchor\":\"bottom\"},{\"font\":{\"size\":10},\"showarrow\":false,\"text\":\"61,484\",\"x\":\"RENAULT\",\"xanchor\":\"center\",\"y\":61484,\"yanchor\":\"bottom\"},{\"font\":{\"size\":10},\"showarrow\":false,\"text\":\"30,796\",\"x\":\"BYD\",\"xanchor\":\"center\",\"y\":30796,\"yanchor\":\"bottom\"},{\"font\":{\"size\":10},\"showarrow\":false,\"text\":\"20,612\",\"x\":\"SUZUKI\",\"xanchor\":\"center\",\"y\":20612,\"yanchor\":\"bottom\"},{\"font\":{\"size\":10},\"showarrow\":false,\"text\":\"18,404\",\"x\":\"CHERY\",\"xanchor\":\"center\",\"y\":18404,\"yanchor\":\"bottom\"},{\"font\":{\"size\":10},\"showarrow\":false,\"text\":\"15,302\",\"x\":\"TOYOTA\",\"xanchor\":\"center\",\"y\":15302,\"yanchor\":\"bottom\"},{\"font\":{\"size\":10},\"showarrow\":false,\"text\":\"8,879\",\"x\":\"LADA\",\"xanchor\":\"center\",\"y\":8879,\"yanchor\":\"bottom\"},{\"font\":{\"size\":10},\"showarrow\":false,\"text\":\"8,580\",\"x\":\"Speranza\",\"xanchor\":\"center\",\"y\":8580,\"yanchor\":\"bottom\"},{\"font\":{\"size\":10},\"showarrow\":false,\"text\":\"8,293\",\"x\":\"OPEL\",\"xanchor\":\"center\",\"y\":8293,\"yanchor\":\"bottom\"},{\"font\":{\"size\":10},\"showarrow\":false,\"text\":\"6,906\",\"x\":\"BAIC\",\"xanchor\":\"center\",\"y\":6906,\"yanchor\":\"bottom\"},{\"font\":{\"size\":10},\"showarrow\":false,\"text\":\"6,798\",\"x\":\"Peugeot\",\"xanchor\":\"center\",\"y\":6798,\"yanchor\":\"bottom\"},{\"font\":{\"size\":10},\"showarrow\":false,\"text\":\"6,328\",\"x\":\"Brilliance\",\"xanchor\":\"center\",\"y\":6328,\"yanchor\":\"bottom\"},{\"font\":{\"size\":10},\"showarrow\":false,\"text\":\"5,701\",\"x\":\"SKODA\",\"xanchor\":\"center\",\"y\":5701,\"yanchor\":\"bottom\"},{\"font\":{\"size\":10},\"showarrow\":false,\"text\":\"4,732\",\"x\":\"Gelory\",\"xanchor\":\"center\",\"y\":4732,\"yanchor\":\"bottom\"},{\"font\":{\"size\":10},\"showarrow\":false,\"text\":\"4,542\",\"x\":\"Saipa\",\"xanchor\":\"center\",\"y\":4542,\"yanchor\":\"bottom\"},{\"font\":{\"size\":10},\"showarrow\":false,\"text\":\"3,920\",\"x\":\"Jack\",\"xanchor\":\"center\",\"y\":3920,\"yanchor\":\"bottom\"},{\"font\":{\"size\":10},\"showarrow\":false,\"text\":\"3,650\",\"x\":\"BMW\",\"xanchor\":\"center\",\"y\":3650,\"yanchor\":\"bottom\"},{\"font\":{\"size\":10},\"showarrow\":false,\"text\":\"3,642\",\"x\":\"Changan\",\"xanchor\":\"center\",\"y\":3642,\"yanchor\":\"bottom\"},{\"font\":{\"size\":10},\"showarrow\":false,\"text\":\"3,125\",\"x\":\"FIAT\",\"xanchor\":\"center\",\"y\":3125,\"yanchor\":\"bottom\"},{\"font\":{\"size\":10},\"showarrow\":false,\"text\":\"3,095\",\"x\":\"PROTON\",\"xanchor\":\"center\",\"y\":3095,\"yanchor\":\"bottom\"},{\"font\":{\"size\":10},\"showarrow\":false,\"text\":\"2,640\",\"x\":\"MAZDA\",\"xanchor\":\"center\",\"y\":2640,\"yanchor\":\"bottom\"},{\"font\":{\"size\":10},\"showarrow\":false,\"text\":\"2,355\",\"x\":\"Citroen\",\"xanchor\":\"center\",\"y\":2355,\"yanchor\":\"bottom\"},{\"font\":{\"size\":10},\"showarrow\":false,\"text\":\"2,258\",\"x\":\"JEEP\",\"xanchor\":\"center\",\"y\":2258,\"yanchor\":\"bottom\"},{\"font\":{\"size\":10},\"showarrow\":false,\"text\":\"1,955\",\"x\":\"Ssang Yong\",\"xanchor\":\"center\",\"y\":1955,\"yanchor\":\"bottom\"},{\"font\":{\"size\":10},\"showarrow\":false,\"text\":\"1,799\",\"x\":\"Isuzu\",\"xanchor\":\"center\",\"y\":1799,\"yanchor\":\"bottom\"},{\"font\":{\"size\":10},\"showarrow\":false,\"text\":\"1,776\",\"x\":\"Kenbo\",\"xanchor\":\"center\",\"y\":1776,\"yanchor\":\"bottom\"},{\"font\":{\"size\":10},\"showarrow\":false,\"text\":\"1,729\",\"x\":\"DAIHATSU\",\"xanchor\":\"center\",\"y\":1729,\"yanchor\":\"bottom\"},{\"font\":{\"size\":10},\"showarrow\":false,\"text\":\"1,619\",\"x\":\"VOLKSWAGEN\",\"xanchor\":\"center\",\"y\":1619,\"yanchor\":\"bottom\"},{\"font\":{\"size\":10},\"showarrow\":false,\"text\":\"1,519\",\"x\":\"SEAT\",\"xanchor\":\"center\",\"y\":1519,\"yanchor\":\"bottom\"},{\"font\":{\"size\":10},\"showarrow\":false,\"text\":\"1,479\",\"x\":\"FORD\",\"xanchor\":\"center\",\"y\":1479,\"yanchor\":\"bottom\"},{\"font\":{\"size\":10},\"showarrow\":false,\"text\":\"1,395\",\"x\":\"SUBARU\",\"xanchor\":\"center\",\"y\":1395,\"yanchor\":\"bottom\"},{\"font\":{\"size\":10},\"showarrow\":false,\"text\":\"1,337\",\"x\":\"MERCEDES\",\"xanchor\":\"center\",\"y\":1337,\"yanchor\":\"bottom\"},{\"font\":{\"size\":10},\"showarrow\":false,\"text\":\"1,109\",\"x\":\"CHANGY\",\"xanchor\":\"center\",\"y\":1109,\"yanchor\":\"bottom\"},{\"font\":{\"size\":10},\"showarrow\":false,\"text\":\"858\",\"x\":\"HAIMA\",\"xanchor\":\"center\",\"y\":858,\"yanchor\":\"bottom\"},{\"font\":{\"size\":10},\"showarrow\":false,\"text\":\"824\",\"x\":\"DFSK\",\"xanchor\":\"center\",\"y\":824,\"yanchor\":\"bottom\"},{\"font\":{\"size\":10},\"showarrow\":false,\"text\":\"746\",\"x\":\"Chana\",\"xanchor\":\"center\",\"y\":746,\"yanchor\":\"bottom\"},{\"font\":{\"size\":10},\"showarrow\":false,\"text\":\"611\",\"x\":\"Zoty\",\"xanchor\":\"center\",\"y\":611,\"yanchor\":\"bottom\"},{\"font\":{\"size\":10},\"showarrow\":false,\"text\":\"338\",\"x\":\"HONDA\",\"xanchor\":\"center\",\"y\":338,\"yanchor\":\"bottom\"},{\"font\":{\"size\":10},\"showarrow\":false,\"text\":\"273\",\"x\":\"MG\",\"xanchor\":\"center\",\"y\":273,\"yanchor\":\"bottom\"},{\"font\":{\"size\":10},\"showarrow\":false,\"text\":\"240\",\"x\":\"AUDI\",\"xanchor\":\"center\",\"y\":240,\"yanchor\":\"bottom\"},{\"font\":{\"size\":10},\"showarrow\":false,\"text\":\"219\",\"x\":\"Great Wall\",\"xanchor\":\"center\",\"y\":219,\"yanchor\":\"bottom\"},{\"font\":{\"size\":10},\"showarrow\":false,\"text\":\"193\",\"x\":\"VOLVO\",\"xanchor\":\"center\",\"y\":193,\"yanchor\":\"bottom\"},{\"font\":{\"size\":10},\"showarrow\":false,\"text\":\"180\",\"x\":\"Faw\",\"xanchor\":\"center\",\"y\":180,\"yanchor\":\"bottom\"},{\"font\":{\"size\":10},\"showarrow\":false,\"text\":\"162\",\"x\":\"CARRY\",\"xanchor\":\"center\",\"y\":162,\"yanchor\":\"bottom\"},{\"font\":{\"size\":10},\"showarrow\":false,\"text\":\"125\",\"x\":\"MINI\",\"xanchor\":\"center\",\"y\":125,\"yanchor\":\"bottom\"},{\"font\":{\"size\":10},\"showarrow\":false,\"text\":\"109\",\"x\":\"FLORIDA\",\"xanchor\":\"center\",\"y\":109,\"yanchor\":\"bottom\"},{\"font\":{\"size\":10},\"showarrow\":false,\"text\":\"107\",\"x\":\"SAWEAST\",\"xanchor\":\"center\",\"y\":107,\"yanchor\":\"bottom\"},{\"font\":{\"size\":10},\"showarrow\":false,\"text\":\"96\",\"x\":\"ZEMEX\",\"xanchor\":\"center\",\"y\":96,\"yanchor\":\"bottom\"},{\"font\":{\"size\":10},\"showarrow\":false,\"text\":\"81\",\"x\":\"Livan\",\"xanchor\":\"center\",\"y\":81,\"yanchor\":\"bottom\"},{\"font\":{\"size\":10},\"showarrow\":false,\"text\":\"78\",\"x\":\"MABLE\",\"xanchor\":\"center\",\"y\":78,\"yanchor\":\"bottom\"},{\"font\":{\"size\":10},\"showarrow\":false,\"text\":\"36\",\"x\":\"VICTORY\",\"xanchor\":\"center\",\"y\":36,\"yanchor\":\"bottom\"},{\"font\":{\"size\":10},\"showarrow\":false,\"text\":\"34\",\"x\":\"HAWTAI\",\"xanchor\":\"center\",\"y\":34,\"yanchor\":\"bottom\"},{\"font\":{\"size\":10},\"showarrow\":false,\"text\":\"34\",\"x\":\"Dodge\",\"xanchor\":\"center\",\"y\":34,\"yanchor\":\"bottom\"},{\"font\":{\"size\":10},\"showarrow\":false,\"text\":\"33\",\"x\":\"Mahindra\",\"xanchor\":\"center\",\"y\":33,\"yanchor\":\"bottom\"},{\"font\":{\"size\":10},\"showarrow\":false,\"text\":\"16\",\"x\":\"JAGUAR\",\"xanchor\":\"center\",\"y\":16,\"yanchor\":\"bottom\"},{\"font\":{\"color\":\"#FF27C1\"},\"showarrow\":false,\"text\":\"20.46%\",\"x\":\"HYUNDAI\",\"xanchor\":\"center\",\"y\":90999.0,\"yanchor\":\"middle\"},{\"font\":{\"color\":\"#FF27C1\"},\"showarrow\":false,\"text\":\"13.41%\",\"x\":\"CHEVROLET\",\"xanchor\":\"center\",\"y\":59635.5,\"yanchor\":\"middle\"},{\"font\":{\"color\":\"#FF27C1\"},\"showarrow\":false,\"text\":\"10.94%\",\"x\":\"NISSAN\",\"xanchor\":\"center\",\"y\":48630.5,\"yanchor\":\"middle\"}],\"plot_bgcolor\":\"#FFF8EC\",\"template\":{\"data\":{\"barpolar\":[{\"marker\":{\"line\":{\"color\":\"#E5ECF6\",\"width\":0.5},\"pattern\":{\"fillmode\":\"overlay\",\"size\":10,\"solidity\":0.2}},\"type\":\"barpolar\"}],\"bar\":[{\"error_x\":{\"color\":\"#2a3f5f\"},\"error_y\":{\"color\":\"#2a3f5f\"},\"marker\":{\"line\":{\"color\":\"#E5ECF6\",\"width\":0.5},\"pattern\":{\"fillmode\":\"overlay\",\"size\":10,\"solidity\":0.2}},\"type\":\"bar\"}],\"carpet\":[{\"aaxis\":{\"endlinecolor\":\"#2a3f5f\",\"gridcolor\":\"white\",\"linecolor\":\"white\",\"minorgridcolor\":\"white\",\"startlinecolor\":\"#2a3f5f\"},\"baxis\":{\"endlinecolor\":\"#2a3f5f\",\"gridcolor\":\"white\",\"linecolor\":\"white\",\"minorgridcolor\":\"white\",\"startlinecolor\":\"#2a3f5f\"},\"type\":\"carpet\"}],\"choropleth\":[{\"colorbar\":{\"outlinewidth\":0,\"ticks\":\"\"},\"type\":\"choropleth\"}],\"contourcarpet\":[{\"colorbar\":{\"outlinewidth\":0,\"ticks\":\"\"},\"type\":\"contourcarpet\"}],\"contour\":[{\"colorbar\":{\"outlinewidth\":0,\"ticks\":\"\"},\"colorscale\":[[0.0,\"#0d0887\"],[0.1111111111111111,\"#46039f\"],[0.2222222222222222,\"#7201a8\"],[0.3333333333333333,\"#9c179e\"],[0.4444444444444444,\"#bd3786\"],[0.5555555555555556,\"#d8576b\"],[0.6666666666666666,\"#ed7953\"],[0.7777777777777778,\"#fb9f3a\"],[0.8888888888888888,\"#fdca26\"],[1.0,\"#f0f921\"]],\"type\":\"contour\"}],\"heatmapgl\":[{\"colorbar\":{\"outlinewidth\":0,\"ticks\":\"\"},\"colorscale\":[[0.0,\"#0d0887\"],[0.1111111111111111,\"#46039f\"],[0.2222222222222222,\"#7201a8\"],[0.3333333333333333,\"#9c179e\"],[0.4444444444444444,\"#bd3786\"],[0.5555555555555556,\"#d8576b\"],[0.6666666666666666,\"#ed7953\"],[0.7777777777777778,\"#fb9f3a\"],[0.8888888888888888,\"#fdca26\"],[1.0,\"#f0f921\"]],\"type\":\"heatmapgl\"}],\"heatmap\":[{\"colorbar\":{\"outlinewidth\":0,\"ticks\":\"\"},\"colorscale\":[[0.0,\"#0d0887\"],[0.1111111111111111,\"#46039f\"],[0.2222222222222222,\"#7201a8\"],[0.3333333333333333,\"#9c179e\"],[0.4444444444444444,\"#bd3786\"],[0.5555555555555556,\"#d8576b\"],[0.6666666666666666,\"#ed7953\"],[0.7777777777777778,\"#fb9f3a\"],[0.8888888888888888,\"#fdca26\"],[1.0,\"#f0f921\"]],\"type\":\"heatmap\"}],\"histogram2dcontour\":[{\"colorbar\":{\"outlinewidth\":0,\"ticks\":\"\"},\"colorscale\":[[0.0,\"#0d0887\"],[0.1111111111111111,\"#46039f\"],[0.2222222222222222,\"#7201a8\"],[0.3333333333333333,\"#9c179e\"],[0.4444444444444444,\"#bd3786\"],[0.5555555555555556,\"#d8576b\"],[0.6666666666666666,\"#ed7953\"],[0.7777777777777778,\"#fb9f3a\"],[0.8888888888888888,\"#fdca26\"],[1.0,\"#f0f921\"]],\"type\":\"histogram2dcontour\"}],\"histogram2d\":[{\"colorbar\":{\"outlinewidth\":0,\"ticks\":\"\"},\"colorscale\":[[0.0,\"#0d0887\"],[0.1111111111111111,\"#46039f\"],[0.2222222222222222,\"#7201a8\"],[0.3333333333333333,\"#9c179e\"],[0.4444444444444444,\"#bd3786\"],[0.5555555555555556,\"#d8576b\"],[0.6666666666666666,\"#ed7953\"],[0.7777777777777778,\"#fb9f3a\"],[0.8888888888888888,\"#fdca26\"],[1.0,\"#f0f921\"]],\"type\":\"histogram2d\"}],\"histogram\":[{\"marker\":{\"pattern\":{\"fillmode\":\"overlay\",\"size\":10,\"solidity\":0.2}},\"type\":\"histogram\"}],\"mesh3d\":[{\"colorbar\":{\"outlinewidth\":0,\"ticks\":\"\"},\"type\":\"mesh3d\"}],\"parcoords\":[{\"line\":{\"colorbar\":{\"outlinewidth\":0,\"ticks\":\"\"}},\"type\":\"parcoords\"}],\"pie\":[{\"automargin\":true,\"type\":\"pie\"}],\"scatter3d\":[{\"line\":{\"colorbar\":{\"outlinewidth\":0,\"ticks\":\"\"}},\"marker\":{\"colorbar\":{\"outlinewidth\":0,\"ticks\":\"\"}},\"type\":\"scatter3d\"}],\"scattercarpet\":[{\"marker\":{\"colorbar\":{\"outlinewidth\":0,\"ticks\":\"\"}},\"type\":\"scattercarpet\"}],\"scattergeo\":[{\"marker\":{\"colorbar\":{\"outlinewidth\":0,\"ticks\":\"\"}},\"type\":\"scattergeo\"}],\"scattergl\":[{\"marker\":{\"colorbar\":{\"outlinewidth\":0,\"ticks\":\"\"}},\"type\":\"scattergl\"}],\"scattermapbox\":[{\"marker\":{\"colorbar\":{\"outlinewidth\":0,\"ticks\":\"\"}},\"type\":\"scattermapbox\"}],\"scatterpolargl\":[{\"marker\":{\"colorbar\":{\"outlinewidth\":0,\"ticks\":\"\"}},\"type\":\"scatterpolargl\"}],\"scatterpolar\":[{\"marker\":{\"colorbar\":{\"outlinewidth\":0,\"ticks\":\"\"}},\"type\":\"scatterpolar\"}],\"scatter\":[{\"marker\":{\"colorbar\":{\"outlinewidth\":0,\"ticks\":\"\"}},\"type\":\"scatter\"}],\"scatterternary\":[{\"marker\":{\"colorbar\":{\"outlinewidth\":0,\"ticks\":\"\"}},\"type\":\"scatterternary\"}],\"surface\":[{\"colorbar\":{\"outlinewidth\":0,\"ticks\":\"\"},\"colorscale\":[[0.0,\"#0d0887\"],[0.1111111111111111,\"#46039f\"],[0.2222222222222222,\"#7201a8\"],[0.3333333333333333,\"#9c179e\"],[0.4444444444444444,\"#bd3786\"],[0.5555555555555556,\"#d8576b\"],[0.6666666666666666,\"#ed7953\"],[0.7777777777777778,\"#fb9f3a\"],[0.8888888888888888,\"#fdca26\"],[1.0,\"#f0f921\"]],\"type\":\"surface\"}],\"table\":[{\"cells\":{\"fill\":{\"color\":\"#EBF0F8\"},\"line\":{\"color\":\"white\"}},\"header\":{\"fill\":{\"color\":\"#C8D4E3\"},\"line\":{\"color\":\"white\"}},\"type\":\"table\"}]},\"layout\":{\"annotationdefaults\":{\"arrowcolor\":\"#2a3f5f\",\"arrowhead\":0,\"arrowwidth\":1},\"autotypenumbers\":\"strict\",\"coloraxis\":{\"colorbar\":{\"outlinewidth\":0,\"ticks\":\"\"}},\"colorscale\":{\"diverging\":[[0,\"#8e0152\"],[0.1,\"#c51b7d\"],[0.2,\"#de77ae\"],[0.3,\"#f1b6da\"],[0.4,\"#fde0ef\"],[0.5,\"#f7f7f7\"],[0.6,\"#e6f5d0\"],[0.7,\"#b8e186\"],[0.8,\"#7fbc41\"],[0.9,\"#4d9221\"],[1,\"#276419\"]],\"sequential\":[[0.0,\"#0d0887\"],[0.1111111111111111,\"#46039f\"],[0.2222222222222222,\"#7201a8\"],[0.3333333333333333,\"#9c179e\"],[0.4444444444444444,\"#bd3786\"],[0.5555555555555556,\"#d8576b\"],[0.6666666666666666,\"#ed7953\"],[0.7777777777777778,\"#fb9f3a\"],[0.8888888888888888,\"#fdca26\"],[1.0,\"#f0f921\"]],\"sequentialminus\":[[0.0,\"#0d0887\"],[0.1111111111111111,\"#46039f\"],[0.2222222222222222,\"#7201a8\"],[0.3333333333333333,\"#9c179e\"],[0.4444444444444444,\"#bd3786\"],[0.5555555555555556,\"#d8576b\"],[0.6666666666666666,\"#ed7953\"],[0.7777777777777778,\"#fb9f3a\"],[0.8888888888888888,\"#fdca26\"],[1.0,\"#f0f921\"]]},\"colorway\":[\"#636efa\",\"#EF553B\",\"#00cc96\",\"#ab63fa\",\"#FFA15A\",\"#19d3f3\",\"#FF6692\",\"#B6E880\",\"#FF97FF\",\"#FECB52\"],\"font\":{\"color\":\"#2a3f5f\"},\"geo\":{\"bgcolor\":\"white\",\"lakecolor\":\"white\",\"landcolor\":\"#E5ECF6\",\"showlakes\":true,\"showland\":true,\"subunitcolor\":\"white\"},\"hoverlabel\":{\"align\":\"left\"},\"hovermode\":\"closest\",\"mapbox\":{\"style\":\"light\"},\"paper_bgcolor\":\"white\",\"plot_bgcolor\":\"#E5ECF6\",\"polar\":{\"angularaxis\":{\"gridcolor\":\"white\",\"linecolor\":\"white\",\"ticks\":\"\"},\"bgcolor\":\"#E5ECF6\",\"radialaxis\":{\"gridcolor\":\"white\",\"linecolor\":\"white\",\"ticks\":\"\"}},\"scene\":{\"xaxis\":{\"backgroundcolor\":\"#E5ECF6\",\"gridcolor\":\"white\",\"gridwidth\":2,\"linecolor\":\"white\",\"showbackground\":true,\"ticks\":\"\",\"zerolinecolor\":\"white\"},\"yaxis\":{\"backgroundcolor\":\"#E5ECF6\",\"gridcolor\":\"white\",\"gridwidth\":2,\"linecolor\":\"white\",\"showbackground\":true,\"ticks\":\"\",\"zerolinecolor\":\"white\"},\"zaxis\":{\"backgroundcolor\":\"#E5ECF6\",\"gridcolor\":\"white\",\"gridwidth\":2,\"linecolor\":\"white\",\"showbackground\":true,\"ticks\":\"\",\"zerolinecolor\":\"white\"}},\"shapedefaults\":{\"line\":{\"color\":\"#2a3f5f\"}},\"ternary\":{\"aaxis\":{\"gridcolor\":\"white\",\"linecolor\":\"white\",\"ticks\":\"\"},\"baxis\":{\"gridcolor\":\"white\",\"linecolor\":\"white\",\"ticks\":\"\"},\"bgcolor\":\"#E5ECF6\",\"caxis\":{\"gridcolor\":\"white\",\"linecolor\":\"white\",\"ticks\":\"\"}},\"title\":{\"x\":0.05},\"xaxis\":{\"automargin\":true,\"gridcolor\":\"white\",\"linecolor\":\"white\",\"ticks\":\"\",\"title\":{\"standoff\":15},\"zerolinecolor\":\"white\",\"zerolinewidth\":2},\"yaxis\":{\"automargin\":true,\"gridcolor\":\"white\",\"linecolor\":\"white\",\"ticks\":\"\",\"title\":{\"standoff\":15},\"zerolinecolor\":\"white\",\"zerolinewidth\":2}}},\"title\":{\"font\":{\"size\":50},\"text\":\"Car type\"},\"xaxis\":{\"type\":\"category\"},\"yaxis\":{\"title\":{\"text\":\"count\"}}},                        {\"responsive\": true}                    ).then(function(){\n",
       "                            \n",
       "var gd = document.getElementById('94a15164-73a9-4909-93f6-8cc90830c5a0');\n",
       "var x = new MutationObserver(function (mutations, observer) {{\n",
       "        var display = window.getComputedStyle(gd).display;\n",
       "        if (!display || display === 'none') {{\n",
       "            console.log([gd, 'removed!']);\n",
       "            Plotly.purge(gd);\n",
       "            observer.disconnect();\n",
       "        }}\n",
       "}});\n",
       "\n",
       "// Listen for the removal of the full notebook cells\n",
       "var notebookContainer = gd.closest('#notebook-container');\n",
       "if (notebookContainer) {{\n",
       "    x.observe(notebookContainer, {childList: true});\n",
       "}}\n",
       "\n",
       "// Listen for the clearing of the current output cell\n",
       "var outputEl = gd.closest('.output');\n",
       "if (outputEl) {{\n",
       "    x.observe(outputEl, {childList: true});\n",
       "}}\n",
       "\n",
       "                        })                };                });            </script>        </div>"
      ]
     },
     "metadata": {},
     "output_type": "display_data"
    }
   ],
   "source": [
    "mdf.plot_univariate(autoloan, cols=[\"CAR_TYPE\"])"
   ]
  },
  {
   "cell_type": "code",
   "execution_count": 5,
   "id": "2ec2a484",
   "metadata": {
    "ExecuteTime": {
     "end_time": "2022-03-13T10:54:09.127621Z",
     "start_time": "2022-03-13T10:54:09.111619Z"
    }
   },
   "outputs": [],
   "source": [
    "output = helper.date_expander(autoloan.head(), input_var=['LOAN_OPEN_DATE'], ref_date_column=None, replace= False)"
   ]
  },
  {
   "cell_type": "code",
   "execution_count": 6,
   "id": "0dbff29e",
   "metadata": {
    "ExecuteTime": {
     "end_time": "2022-03-13T10:54:09.139618Z",
     "start_time": "2022-03-13T10:54:09.132619Z"
    }
   },
   "outputs": [
    {
     "data": {
      "text/plain": [
       "5"
      ]
     },
     "execution_count": 6,
     "metadata": {},
     "output_type": "execute_result"
    }
   ],
   "source": [
    "len(output)"
   ]
  },
  {
   "cell_type": "code",
   "execution_count": 7,
   "id": "722e6dc7",
   "metadata": {
    "ExecuteTime": {
     "end_time": "2022-03-13T10:54:15.862913Z",
     "start_time": "2022-03-13T10:54:15.834524Z"
    }
   },
   "outputs": [
    {
     "data": {
      "text/html": [
       "<div>\n",
       "<style scoped>\n",
       "    .dataframe tbody tr th:only-of-type {\n",
       "        vertical-align: middle;\n",
       "    }\n",
       "\n",
       "    .dataframe tbody tr th {\n",
       "        vertical-align: top;\n",
       "    }\n",
       "\n",
       "    .dataframe thead th {\n",
       "        text-align: right;\n",
       "    }\n",
       "</style>\n",
       "<table border=\"1\" class=\"dataframe\">\n",
       "  <thead>\n",
       "    <tr style=\"text-align: right;\">\n",
       "      <th></th>\n",
       "      <th>LOAN_OPEN_DATE_year</th>\n",
       "      <th>LOAN_OPEN_DATE_month</th>\n",
       "      <th>LOAN_OPEN_DATE_day</th>\n",
       "      <th>LOAN_OPEN_DATE_dofweek</th>\n",
       "    </tr>\n",
       "  </thead>\n",
       "  <tbody>\n",
       "    <tr>\n",
       "      <th>0</th>\n",
       "      <td>2015</td>\n",
       "      <td>11</td>\n",
       "      <td>25</td>\n",
       "      <td>3</td>\n",
       "    </tr>\n",
       "    <tr>\n",
       "      <th>1</th>\n",
       "      <td>2015</td>\n",
       "      <td>12</td>\n",
       "      <td>08</td>\n",
       "      <td>2</td>\n",
       "    </tr>\n",
       "    <tr>\n",
       "      <th>2</th>\n",
       "      <td>2016</td>\n",
       "      <td>01</td>\n",
       "      <td>12</td>\n",
       "      <td>2</td>\n",
       "    </tr>\n",
       "    <tr>\n",
       "      <th>3</th>\n",
       "      <td>2015</td>\n",
       "      <td>11</td>\n",
       "      <td>23</td>\n",
       "      <td>1</td>\n",
       "    </tr>\n",
       "    <tr>\n",
       "      <th>4</th>\n",
       "      <td>2015</td>\n",
       "      <td>11</td>\n",
       "      <td>23</td>\n",
       "      <td>1</td>\n",
       "    </tr>\n",
       "  </tbody>\n",
       "</table>\n",
       "</div>"
      ],
      "text/plain": [
       "  LOAN_OPEN_DATE_year LOAN_OPEN_DATE_month LOAN_OPEN_DATE_day  \\\n",
       "0                2015                   11                 25   \n",
       "1                2015                   12                 08   \n",
       "2                2016                   01                 12   \n",
       "3                2015                   11                 23   \n",
       "4                2015                   11                 23   \n",
       "\n",
       "  LOAN_OPEN_DATE_dofweek  \n",
       "0                      3  \n",
       "1                      2  \n",
       "2                      2  \n",
       "3                      1  \n",
       "4                      1  "
      ]
     },
     "execution_count": 7,
     "metadata": {},
     "output_type": "execute_result"
    }
   ],
   "source": [
    "output"
   ]
  },
  {
   "cell_type": "code",
   "execution_count": 28,
   "id": "be0f92e0",
   "metadata": {
    "ExecuteTime": {
     "end_time": "2022-03-13T11:34:04.301344Z",
     "start_time": "2022-03-13T11:34:01.748898Z"
    }
   },
   "outputs": [
    {
     "ename": "KeyError",
     "evalue": "'key of type tuple not found and not a MultiIndex'",
     "output_type": "error",
     "traceback": [
      "\u001b[1;31m---------------------------------------------------------------------------\u001b[0m",
      "\u001b[1;31mKeyError\u001b[0m                                  Traceback (most recent call last)",
      "\u001b[1;32m<ipython-input-28-afb17c15dcdc>\u001b[0m in \u001b[0;36m<module>\u001b[1;34m\u001b[0m\n\u001b[1;32m----> 1\u001b[1;33m \u001b[0mdate_splits\u001b[0m \u001b[1;33m=\u001b[0m \u001b[0mautoloan\u001b[0m\u001b[1;33m.\u001b[0m\u001b[0mLOAN_OPEN_DATE\u001b[0m\u001b[1;33m.\u001b[0m\u001b[0mstr\u001b[0m\u001b[1;33m.\u001b[0m\u001b[0msplit\u001b[0m\u001b[1;33m(\u001b[0m\u001b[1;34m\"-\"\u001b[0m\u001b[1;33m)\u001b[0m\u001b[1;33m[\u001b[0m\u001b[1;33m:\u001b[0m\u001b[1;33m,\u001b[0m\u001b[1;36m0\u001b[0m\u001b[1;33m]\u001b[0m\u001b[1;33m\u001b[0m\u001b[1;33m\u001b[0m\u001b[0m\n\u001b[0m",
      "\u001b[1;32mF:\\Development\\Anaconda\\envs\\aramco_ml2\\lib\\site-packages\\pandas\\core\\series.py\u001b[0m in \u001b[0;36m__getitem__\u001b[1;34m(self, key)\u001b[0m\n\u001b[0;32m    875\u001b[0m             \u001b[1;32mreturn\u001b[0m \u001b[0mself\u001b[0m\u001b[1;33m.\u001b[0m\u001b[0m_get_values\u001b[0m\u001b[1;33m(\u001b[0m\u001b[0mkey\u001b[0m\u001b[1;33m)\u001b[0m\u001b[1;33m\u001b[0m\u001b[1;33m\u001b[0m\u001b[0m\n\u001b[0;32m    876\u001b[0m \u001b[1;33m\u001b[0m\u001b[0m\n\u001b[1;32m--> 877\u001b[1;33m         \u001b[1;32mreturn\u001b[0m \u001b[0mself\u001b[0m\u001b[1;33m.\u001b[0m\u001b[0m_get_with\u001b[0m\u001b[1;33m(\u001b[0m\u001b[0mkey\u001b[0m\u001b[1;33m)\u001b[0m\u001b[1;33m\u001b[0m\u001b[1;33m\u001b[0m\u001b[0m\n\u001b[0m\u001b[0;32m    878\u001b[0m \u001b[1;33m\u001b[0m\u001b[0m\n\u001b[0;32m    879\u001b[0m     \u001b[1;32mdef\u001b[0m \u001b[0m_get_with\u001b[0m\u001b[1;33m(\u001b[0m\u001b[0mself\u001b[0m\u001b[1;33m,\u001b[0m \u001b[0mkey\u001b[0m\u001b[1;33m)\u001b[0m\u001b[1;33m:\u001b[0m\u001b[1;33m\u001b[0m\u001b[1;33m\u001b[0m\u001b[0m\n",
      "\u001b[1;32mF:\\Development\\Anaconda\\envs\\aramco_ml2\\lib\\site-packages\\pandas\\core\\series.py\u001b[0m in \u001b[0;36m_get_with\u001b[1;34m(self, key)\u001b[0m\n\u001b[0;32m    890\u001b[0m             )\n\u001b[0;32m    891\u001b[0m         \u001b[1;32melif\u001b[0m \u001b[0misinstance\u001b[0m\u001b[1;33m(\u001b[0m\u001b[0mkey\u001b[0m\u001b[1;33m,\u001b[0m \u001b[0mtuple\u001b[0m\u001b[1;33m)\u001b[0m\u001b[1;33m:\u001b[0m\u001b[1;33m\u001b[0m\u001b[1;33m\u001b[0m\u001b[0m\n\u001b[1;32m--> 892\u001b[1;33m             \u001b[1;32mreturn\u001b[0m \u001b[0mself\u001b[0m\u001b[1;33m.\u001b[0m\u001b[0m_get_values_tuple\u001b[0m\u001b[1;33m(\u001b[0m\u001b[0mkey\u001b[0m\u001b[1;33m)\u001b[0m\u001b[1;33m\u001b[0m\u001b[1;33m\u001b[0m\u001b[0m\n\u001b[0m\u001b[0;32m    893\u001b[0m \u001b[1;33m\u001b[0m\u001b[0m\n\u001b[0;32m    894\u001b[0m         \u001b[1;32melif\u001b[0m \u001b[1;32mnot\u001b[0m \u001b[0mis_list_like\u001b[0m\u001b[1;33m(\u001b[0m\u001b[0mkey\u001b[0m\u001b[1;33m)\u001b[0m\u001b[1;33m:\u001b[0m\u001b[1;33m\u001b[0m\u001b[1;33m\u001b[0m\u001b[0m\n",
      "\u001b[1;32mF:\\Development\\Anaconda\\envs\\aramco_ml2\\lib\\site-packages\\pandas\\core\\series.py\u001b[0m in \u001b[0;36m_get_values_tuple\u001b[1;34m(self, key)\u001b[0m\n\u001b[0;32m    925\u001b[0m \u001b[1;33m\u001b[0m\u001b[0m\n\u001b[0;32m    926\u001b[0m         \u001b[1;32mif\u001b[0m \u001b[1;32mnot\u001b[0m \u001b[0misinstance\u001b[0m\u001b[1;33m(\u001b[0m\u001b[0mself\u001b[0m\u001b[1;33m.\u001b[0m\u001b[0mindex\u001b[0m\u001b[1;33m,\u001b[0m \u001b[0mMultiIndex\u001b[0m\u001b[1;33m)\u001b[0m\u001b[1;33m:\u001b[0m\u001b[1;33m\u001b[0m\u001b[1;33m\u001b[0m\u001b[0m\n\u001b[1;32m--> 927\u001b[1;33m             \u001b[1;32mraise\u001b[0m \u001b[0mKeyError\u001b[0m\u001b[1;33m(\u001b[0m\u001b[1;34m\"key of type tuple not found and not a MultiIndex\"\u001b[0m\u001b[1;33m)\u001b[0m\u001b[1;33m\u001b[0m\u001b[1;33m\u001b[0m\u001b[0m\n\u001b[0m\u001b[0;32m    928\u001b[0m \u001b[1;33m\u001b[0m\u001b[0m\n\u001b[0;32m    929\u001b[0m         \u001b[1;31m# If key is contained, would have returned by now\u001b[0m\u001b[1;33m\u001b[0m\u001b[1;33m\u001b[0m\u001b[1;33m\u001b[0m\u001b[0m\n",
      "\u001b[1;31mKeyError\u001b[0m: 'key of type tuple not found and not a MultiIndex'"
     ]
    }
   ],
   "source": [
    "date_splits = autoloan.LOAN_OPEN_DATE.str.split(\"-\")[:,0]"
   ]
  },
  {
   "cell_type": "code",
   "execution_count": 27,
   "id": "2360384b",
   "metadata": {
    "ExecuteTime": {
     "end_time": "2022-03-13T11:33:54.039058Z",
     "start_time": "2022-03-13T11:33:54.023059Z"
    }
   },
   "outputs": [
    {
     "data": {
      "text/plain": [
       "'2015'"
      ]
     },
     "execution_count": 27,
     "metadata": {},
     "output_type": "execute_result"
    }
   ],
   "source": [
    "date_splits[0]"
   ]
  },
  {
   "cell_type": "code",
   "execution_count": 8,
   "id": "e448f1df",
   "metadata": {
    "ExecuteTime": {
     "end_time": "2022-03-13T10:18:56.656919Z",
     "start_time": "2022-03-13T10:18:31.364045Z"
    }
   },
   "outputs": [],
   "source": [
    "b = a_vect(autoloan.LOAN_OPEN_DATE, autoloan.EXPECTED_CLOSE_DATE)"
   ]
  },
  {
   "cell_type": "code",
   "execution_count": 9,
   "id": "bb797b2e",
   "metadata": {
    "ExecuteTime": {
     "end_time": "2022-03-13T10:18:59.869545Z",
     "start_time": "2022-03-13T10:18:59.852546Z"
    }
   },
   "outputs": [
    {
     "data": {
      "text/plain": [
       "(array(['2015', '2015', '2016', ..., '2019', '2019', '2014'], dtype='<U4'),\n",
       " array(['11', '12', '01', ..., '03', '06', '09'], dtype='<U2'),\n",
       " array(['25', '08', '12', ..., '21', '26', '07'], dtype='<U2'),\n",
       " array(['3', '2', '2', ..., '4', '3', '0'], dtype='<U1'),\n",
       " array([1805,  726, 1818, ...,  713, 1804, 1822]))"
      ]
     },
     "execution_count": 9,
     "metadata": {},
     "output_type": "execute_result"
    }
   ],
   "source": [
    "b"
   ]
  },
  {
   "cell_type": "code",
   "execution_count": 10,
   "id": "5f01a231",
   "metadata": {
    "ExecuteTime": {
     "end_time": "2022-03-13T10:20:48.444711Z",
     "start_time": "2022-03-13T10:19:01.744665Z"
    }
   },
   "outputs": [],
   "source": [
    "df = pd.DataFrame(b).transpose()\n",
    "df.columns = (\"year\", \"month\", \"day\", \"dofweek\", \"days_remaining\")"
   ]
  },
  {
   "cell_type": "code",
   "execution_count": 11,
   "id": "90b28701",
   "metadata": {
    "ExecuteTime": {
     "end_time": "2022-03-13T10:20:50.209137Z",
     "start_time": "2022-03-13T10:20:50.179586Z"
    }
   },
   "outputs": [
    {
     "data": {
      "text/html": [
       "<div>\n",
       "<style scoped>\n",
       "    .dataframe tbody tr th:only-of-type {\n",
       "        vertical-align: middle;\n",
       "    }\n",
       "\n",
       "    .dataframe tbody tr th {\n",
       "        vertical-align: top;\n",
       "    }\n",
       "\n",
       "    .dataframe thead th {\n",
       "        text-align: right;\n",
       "    }\n",
       "</style>\n",
       "<table border=\"1\" class=\"dataframe\">\n",
       "  <thead>\n",
       "    <tr style=\"text-align: right;\">\n",
       "      <th></th>\n",
       "      <th>year</th>\n",
       "      <th>month</th>\n",
       "      <th>day</th>\n",
       "      <th>dofweek</th>\n",
       "      <th>days_remaining</th>\n",
       "    </tr>\n",
       "  </thead>\n",
       "  <tbody>\n",
       "    <tr>\n",
       "      <th>0</th>\n",
       "      <td>2015</td>\n",
       "      <td>11</td>\n",
       "      <td>25</td>\n",
       "      <td>3</td>\n",
       "      <td>1805</td>\n",
       "    </tr>\n",
       "    <tr>\n",
       "      <th>1</th>\n",
       "      <td>2015</td>\n",
       "      <td>12</td>\n",
       "      <td>08</td>\n",
       "      <td>2</td>\n",
       "      <td>726</td>\n",
       "    </tr>\n",
       "    <tr>\n",
       "      <th>2</th>\n",
       "      <td>2016</td>\n",
       "      <td>01</td>\n",
       "      <td>12</td>\n",
       "      <td>2</td>\n",
       "      <td>1818</td>\n",
       "    </tr>\n",
       "    <tr>\n",
       "      <th>3</th>\n",
       "      <td>2015</td>\n",
       "      <td>11</td>\n",
       "      <td>23</td>\n",
       "      <td>1</td>\n",
       "      <td>1410</td>\n",
       "    </tr>\n",
       "    <tr>\n",
       "      <th>4</th>\n",
       "      <td>2015</td>\n",
       "      <td>11</td>\n",
       "      <td>23</td>\n",
       "      <td>1</td>\n",
       "      <td>1076</td>\n",
       "    </tr>\n",
       "    <tr>\n",
       "      <th>...</th>\n",
       "      <td>...</td>\n",
       "      <td>...</td>\n",
       "      <td>...</td>\n",
       "      <td>...</td>\n",
       "      <td>...</td>\n",
       "    </tr>\n",
       "    <tr>\n",
       "      <th>900855</th>\n",
       "      <td>2018</td>\n",
       "      <td>09</td>\n",
       "      <td>27</td>\n",
       "      <td>4</td>\n",
       "      <td>1802</td>\n",
       "    </tr>\n",
       "    <tr>\n",
       "      <th>900856</th>\n",
       "      <td>2019</td>\n",
       "      <td>08</td>\n",
       "      <td>28</td>\n",
       "      <td>3</td>\n",
       "      <td>1833</td>\n",
       "    </tr>\n",
       "    <tr>\n",
       "      <th>900857</th>\n",
       "      <td>2019</td>\n",
       "      <td>03</td>\n",
       "      <td>21</td>\n",
       "      <td>4</td>\n",
       "      <td>713</td>\n",
       "    </tr>\n",
       "    <tr>\n",
       "      <th>900858</th>\n",
       "      <td>2019</td>\n",
       "      <td>06</td>\n",
       "      <td>26</td>\n",
       "      <td>3</td>\n",
       "      <td>1804</td>\n",
       "    </tr>\n",
       "    <tr>\n",
       "      <th>900859</th>\n",
       "      <td>2014</td>\n",
       "      <td>09</td>\n",
       "      <td>07</td>\n",
       "      <td>0</td>\n",
       "      <td>1822</td>\n",
       "    </tr>\n",
       "  </tbody>\n",
       "</table>\n",
       "<p>900860 rows × 5 columns</p>\n",
       "</div>"
      ],
      "text/plain": [
       "        year month day dofweek days_remaining\n",
       "0       2015    11  25       3           1805\n",
       "1       2015    12  08       2            726\n",
       "2       2016    01  12       2           1818\n",
       "3       2015    11  23       1           1410\n",
       "4       2015    11  23       1           1076\n",
       "...      ...   ...  ..     ...            ...\n",
       "900855  2018    09  27       4           1802\n",
       "900856  2019    08  28       3           1833\n",
       "900857  2019    03  21       4            713\n",
       "900858  2019    06  26       3           1804\n",
       "900859  2014    09  07       0           1822\n",
       "\n",
       "[900860 rows x 5 columns]"
      ]
     },
     "execution_count": 11,
     "metadata": {},
     "output_type": "execute_result"
    }
   ],
   "source": [
    "df"
   ]
  },
  {
   "cell_type": "code",
   "execution_count": null,
   "id": "8e1eee00",
   "metadata": {},
   "outputs": [],
   "source": []
  }
 ],
 "metadata": {
  "kernelspec": {
   "display_name": "Python 3",
   "language": "python",
   "name": "python3"
  },
  "language_info": {
   "codemirror_mode": {
    "name": "ipython",
    "version": 3
   },
   "file_extension": ".py",
   "mimetype": "text/x-python",
   "name": "python",
   "nbconvert_exporter": "python",
   "pygments_lexer": "ipython3",
   "version": "3.9.4"
  },
  "toc": {
   "base_numbering": 1,
   "nav_menu": {},
   "number_sections": true,
   "sideBar": true,
   "skip_h1_title": false,
   "title_cell": "Table of Contents",
   "title_sidebar": "Contents",
   "toc_cell": false,
   "toc_position": {},
   "toc_section_display": true,
   "toc_window_display": false
  },
  "varInspector": {
   "cols": {
    "lenName": 16,
    "lenType": 16,
    "lenVar": 40
   },
   "kernels_config": {
    "python": {
     "delete_cmd_postfix": "",
     "delete_cmd_prefix": "del ",
     "library": "var_list.py",
     "varRefreshCmd": "print(var_dic_list())"
    },
    "r": {
     "delete_cmd_postfix": ") ",
     "delete_cmd_prefix": "rm(",
     "library": "var_list.r",
     "varRefreshCmd": "cat(var_dic_list()) "
    }
   },
   "types_to_exclude": [
    "module",
    "function",
    "builtin_function_or_method",
    "instance",
    "_Feature"
   ],
   "window_display": false
  }
 },
 "nbformat": 4,
 "nbformat_minor": 5
}
