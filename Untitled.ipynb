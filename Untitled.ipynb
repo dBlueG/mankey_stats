{
 "cells": [
  {
   "cell_type": "code",
   "execution_count": 1,
   "id": "10c3dbf4",
   "metadata": {
    "ExecuteTime": {
     "end_time": "2022-03-13T08:54:35.449537Z",
     "start_time": "2022-03-13T08:54:33.924508Z"
    }
   },
   "outputs": [],
   "source": [
    "import mankey.custom_helpers as helper"
   ]
  },
  {
   "cell_type": "code",
   "execution_count": 6,
   "id": "75ce9ba5",
   "metadata": {
    "ExecuteTime": {
     "end_time": "2022-03-13T08:55:20.364246Z",
     "start_time": "2022-03-13T08:55:20.349247Z"
    }
   },
   "outputs": [],
   "source": [
    "import numpy as np\n",
    "import pandas as pd\n",
    "helper.date_expand_func\n",
    "import datetime"
   ]
  },
  {
   "cell_type": "code",
   "execution_count": 3,
   "id": "d8c4027d",
   "metadata": {
    "ExecuteTime": {
     "end_time": "2022-03-13T08:54:35.480864Z",
     "start_time": "2022-03-13T08:54:35.468535Z"
    }
   },
   "outputs": [],
   "source": [
    "a_vect = np.vectorize(helper.date_expand_func)"
   ]
  },
  {
   "cell_type": "code",
   "execution_count": 4,
   "id": "a2b99ef9",
   "metadata": {
    "ExecuteTime": {
     "end_time": "2022-03-13T08:54:35.497870Z",
     "start_time": "2022-03-13T08:54:35.483864Z"
    }
   },
   "outputs": [],
   "source": [
    "b  = a_vect(2022,3,13, datetime.date(2022,3,14))"
   ]
  },
  {
   "cell_type": "code",
   "execution_count": 14,
   "id": "0ec3ac75",
   "metadata": {
    "ExecuteTime": {
     "end_time": "2022-03-13T08:56:53.459542Z",
     "start_time": "2022-03-13T08:56:53.447542Z"
    }
   },
   "outputs": [
    {
     "data": {
      "text/plain": [
       "(array('2022', dtype='<U4'),\n",
       " array('03', dtype='<U2'),\n",
       " array('13', dtype='<U2'),\n",
       " array('0', dtype='<U1'),\n",
       " array(1))"
      ]
     },
     "execution_count": 14,
     "metadata": {},
     "output_type": "execute_result"
    }
   ],
   "source": [
    "b"
   ]
  },
  {
   "cell_type": "code",
   "execution_count": 16,
   "id": "f2a50cc2",
   "metadata": {
    "ExecuteTime": {
     "end_time": "2022-03-13T08:56:59.495980Z",
     "start_time": "2022-03-13T08:56:59.487979Z"
    }
   },
   "outputs": [],
   "source": [
    "df = pd.DataFrame(b).transpose()\n",
    "df.columns = (\"year\", \"month\", \"day\", \"dofweek\", \"days_remaining\")"
   ]
  },
  {
   "cell_type": "code",
   "execution_count": 17,
   "id": "ccf3f786",
   "metadata": {
    "ExecuteTime": {
     "end_time": "2022-03-13T08:57:00.807021Z",
     "start_time": "2022-03-13T08:57:00.791022Z"
    }
   },
   "outputs": [
    {
     "data": {
      "text/html": [
       "<div>\n",
       "<style scoped>\n",
       "    .dataframe tbody tr th:only-of-type {\n",
       "        vertical-align: middle;\n",
       "    }\n",
       "\n",
       "    .dataframe tbody tr th {\n",
       "        vertical-align: top;\n",
       "    }\n",
       "\n",
       "    .dataframe thead th {\n",
       "        text-align: right;\n",
       "    }\n",
       "</style>\n",
       "<table border=\"1\" class=\"dataframe\">\n",
       "  <thead>\n",
       "    <tr style=\"text-align: right;\">\n",
       "      <th></th>\n",
       "      <th>year</th>\n",
       "      <th>month</th>\n",
       "      <th>day</th>\n",
       "      <th>dofweek</th>\n",
       "      <th>days_remaining</th>\n",
       "    </tr>\n",
       "  </thead>\n",
       "  <tbody>\n",
       "    <tr>\n",
       "      <th>0</th>\n",
       "      <td>2022</td>\n",
       "      <td>03</td>\n",
       "      <td>13</td>\n",
       "      <td>0</td>\n",
       "      <td>1</td>\n",
       "    </tr>\n",
       "  </tbody>\n",
       "</table>\n",
       "</div>"
      ],
      "text/plain": [
       "   year month day dofweek days_remaining\n",
       "0  2022    03  13       0              1"
      ]
     },
     "execution_count": 17,
     "metadata": {},
     "output_type": "execute_result"
    }
   ],
   "source": [
    "df"
   ]
  },
  {
   "cell_type": "code",
   "execution_count": null,
   "id": "0c7f2890",
   "metadata": {},
   "outputs": [],
   "source": []
  }
 ],
 "metadata": {
  "kernelspec": {
   "display_name": "Python 3",
   "language": "python",
   "name": "python3"
  },
  "language_info": {
   "codemirror_mode": {
    "name": "ipython",
    "version": 3
   },
   "file_extension": ".py",
   "mimetype": "text/x-python",
   "name": "python",
   "nbconvert_exporter": "python",
   "pygments_lexer": "ipython3",
   "version": "3.9.4"
  },
  "toc": {
   "base_numbering": 1,
   "nav_menu": {},
   "number_sections": true,
   "sideBar": true,
   "skip_h1_title": false,
   "title_cell": "Table of Contents",
   "title_sidebar": "Contents",
   "toc_cell": false,
   "toc_position": {},
   "toc_section_display": true,
   "toc_window_display": false
  },
  "varInspector": {
   "cols": {
    "lenName": 16,
    "lenType": 16,
    "lenVar": 40
   },
   "kernels_config": {
    "python": {
     "delete_cmd_postfix": "",
     "delete_cmd_prefix": "del ",
     "library": "var_list.py",
     "varRefreshCmd": "print(var_dic_list())"
    },
    "r": {
     "delete_cmd_postfix": ") ",
     "delete_cmd_prefix": "rm(",
     "library": "var_list.r",
     "varRefreshCmd": "cat(var_dic_list()) "
    }
   },
   "types_to_exclude": [
    "module",
    "function",
    "builtin_function_or_method",
    "instance",
    "_Feature"
   ],
   "window_display": false
  }
 },
 "nbformat": 4,
 "nbformat_minor": 5
}
